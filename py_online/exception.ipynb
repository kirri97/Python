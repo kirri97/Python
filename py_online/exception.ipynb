{
 "cells": [
  {
   "cell_type": "markdown",
   "metadata": {},
   "source": [
    "# Exception"
   ]
  },
  {
   "cell_type": "code",
   "execution_count": 2,
   "metadata": {},
   "outputs": [
    {
     "name": "stdout",
     "output_type": "stream",
     "text": [
      "you cannot divide by zero\n"
     ]
    }
   ],
   "source": [
    "\n",
    "x=int(input(\"enter first number\"))\n",
    "y=int(input(\"enter second number\"))\n",
    "try:\n",
    "     if y==0:\n",
    "         raise ZeroDivisionError(\"Denominator can be zero\")\n",
    "     z=x/y\n",
    "     print(\"Division is \",z)\n",
    "except ZeroDivisionError:\n",
    "    print(\"you cannot divide by zero\")\n",
    "    \n",
    "    \n",
    "    "
   ]
  },
  {
   "cell_type": "code",
   "execution_count": 9,
   "metadata": {},
   "outputs": [
    {
     "name": "stdout",
     "output_type": "stream",
     "text": [
      "withdraw amount 2444 successfully\n",
      "current balance is 2556\n"
     ]
    }
   ],
   "source": [
    "# user defined exception\n",
    "class InsufficientBalance(ZeroDivisionError):\n",
    "    def _init_(self,arg):\n",
    "        self.msg=arg\n",
    "balance=5000\n",
    "w=int(input(\"enter amount to withdraw\"))\n",
    "try:\n",
    "    if w>balance:\n",
    "      raise InsufficientBalance(\"Insufficient balance in the account\")\n",
    "    balance=balance-w\n",
    "except InsufficientBalance as i:\n",
    "    print(\"Exception\", i.msg)\n",
    "else:\n",
    "    print(\"withdraw amount\",w,\"successfully\")\n",
    "finally:\n",
    "   print(\"current balance is\",balance)\n",
    "  \n",
    "  \n",
    "    "
   ]
  },
  {
   "cell_type": "code",
   "execution_count": null,
   "metadata": {},
   "outputs": [],
   "source": [
    "  "
   ]
  },
  {
   "cell_type": "markdown",
   "metadata": {},
   "source": [
    "# Object Oriented Programing"
   ]
  },
  {
   "cell_type": "markdown",
   "metadata": {},
   "source": [
    "1.procedure oriented way of programming\n",
    "2.object oriented way of programming\n",
    "           data+function\n",
    "3.Main Aspects of OOPs\n",
    "    1.classes and objects \n",
    "    2.inheritance\n",
    "    3.polymorphism\n",
    "    4.data hiding\n",
    "    "
   ]
  },
  {
   "cell_type": "markdown",
   "metadata": {},
   "source": [
    "### classes and objects\n",
    "1.What is class?\n",
    "   class is a keyword\n",
    "   class has some name\n",
    "   class encapsulates data and functions\n",
    "   creating class is creating type\n",
    "   class is a description of an object\n",
    "   class is a blueprint of an object\n",
    "   int,float,complex,str,tuple,set,dict,etc are built in classes\n",
    "2.What is an object?\n",
    "   object is an instance of a class\n",
    "   instance=object\n",
    "   you can create any number of objects of some class , but you have to define class first \n",
    "\n",
    "3.what happens during installation?\n",
    "   t1=Test()  # calling class object create an empty object\n",
    "4.__init__() in class \n",
    "   1.t1=Test() # after creating object it will call init function automatically\n",
    "   2.init function it will take one argument  u should give \n",
    "\n",
    "    \n",
    "\n"
   ]
  },
  {
   "cell_type": "code",
   "execution_count": 16,
   "metadata": {},
   "outputs": [
    {
     "name": "stdout",
     "output_type": "stream",
     "text": [
      "10\n",
      "hello\n"
     ]
    }
   ],
   "source": [
    "class kiran:  # kiran is  class name\n",
    "    i=10     # here 'i' is variable \n",
    "    def f():   # 'f' is function \n",
    "        print(\"hello\") # hello is printing\n",
    "print(kiran.i)  # here printing 'i' value with the help of class name \n",
    "kiran.f()   # here callig function with the help of class name\n",
    "\n"
   ]
  },
  {
   "cell_type": "code",
   "execution_count": 24,
   "metadata": {},
   "outputs": [
    {
     "name": "stdout",
     "output_type": "stream",
     "text": [
      "init\n",
      "init\n",
      "init\n"
     ]
    }
   ],
   "source": [
    "class Test:\n",
    "    \n",
    "    def __init__(self) : # here using init function  , self or any argument u shloud pass because while create object it will go into the argument place automatically\n",
    "        print(\"init\")   # printing init\n",
    "t1=Test()    # object created and automatically calling init function\n",
    "t2=Test()\n",
    "t3=Test()\n",
    " \n",
    "     "
   ]
  },
  {
   "cell_type": "code",
   "execution_count": 38,
   "metadata": {},
   "outputs": [
    {
     "name": "stdout",
     "output_type": "stream",
     "text": [
      "10 20\n",
      "3 4\n",
      "22 34\n"
     ]
    }
   ],
   "source": [
    "class Test:\n",
    "    def __init__(self,x,y) :\n",
    "       self.a=x\n",
    "       self.b=y\n",
    "t1=Test(10,20)\n",
    "t2=Test(3,4)\n",
    "t3=Test(22,34)\n",
    "print(t1.a,t1.b)\n",
    "print(t2.a,t2.b)\n",
    "print(t3.a,t3.b)"
   ]
  },
  {
   "cell_type": "markdown",
   "metadata": {},
   "source": [
    "### Function in class "
   ]
  },
  {
   "cell_type": "markdown",
   "metadata": {},
   "source": []
  },
  {
   "cell_type": "code",
   "execution_count": null,
   "metadata": {},
   "outputs": [],
   "source": [
    " "
   ]
  }
 ],
 "metadata": {
  "kernelspec": {
   "display_name": "Python 3",
   "language": "python",
   "name": "python3"
  },
  "language_info": {
   "codemirror_mode": {
    "name": "ipython",
    "version": 3
   },
   "file_extension": ".py",
   "mimetype": "text/x-python",
   "name": "python",
   "nbconvert_exporter": "python",
   "pygments_lexer": "ipython3",
   "version": "3.11.8"
  }
 },
 "nbformat": 4,
 "nbformat_minor": 2
}
