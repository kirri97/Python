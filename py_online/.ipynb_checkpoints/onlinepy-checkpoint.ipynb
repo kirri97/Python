{
 "cells": [
  {
   "cell_type": "code",
   "execution_count": null,
   "id": "85ae413b-e588-477a-aaf2-377a93906f22",
   "metadata": {},
   "outputs": [
    {
     "name": "stdout",
     "output_type": "stream",
     "text": [
      "23:43:32."
     ]
    }
   ],
   "source": [
    "x=23\n",
    "y=43\n",
    "z=32\n",
    "print(x,y,z,end= \".\",sep= \":\")"
   ]
  },
  {
   "cell_type": "code",
   "execution_count": null,
   "id": "8e47a086-b3e8-4bc8-9456-431f4206497e",
   "metadata": {},
   "outputs": [
    {
     "name": "stdout",
     "output_type": "stream",
     "text": [
      "value of x is 34\n"
     ]
    }
   ],
   "source": [
    "x=34\n",
    "print(\"value of x is %d\" %x)\n"
   ]
  },
  {
   "cell_type": "code",
   "execution_count": null,
   "id": "250f792d-e8d8-4e73-a2dc-ce88be55972f",
   "metadata": {},
   "outputs": [
    {
     "name": "stdout",
     "output_type": "stream",
     "text": [
      "sum of 23 and 34 is 57 \n"
     ]
    }
   ],
   "source": [
    "a=23\n",
    "b=34\n",
    "c=a+b\n",
    "print(\"sum of %d and %d is %d \"%(a,b,c))"
   ]
  },
  {
   "cell_type": "code",
   "execution_count": null,
   "id": "48138566-bace-4304-b5e9-4bfc3dfbdbb6",
   "metadata": {},
   "outputs": [
    {
     "name": "stdout",
     "output_type": "stream",
     "text": [
      "hello kirri x=12 y=44 \n"
     ]
    }
   ],
   "source": [
    "x=12\n",
    "y=44\n",
    "z=\"kirri\"\n",
    "print(\"hello {2} x={0} y={1} \".format(x,y,z))"
   ]
  },
  {
   "cell_type": "markdown",
   "id": "d9eac830-f315-47f9-9457-8e879d7ced8d",
   "metadata": {},
   "source": [
    "# if condition"
   ]
  },
  {
   "cell_type": "code",
   "execution_count": null,
   "id": "55cbd939-4aa0-4206-b868-a1a74c28b53f",
   "metadata": {},
   "outputs": [
    {
     "name": "stdout",
     "output_type": "stream",
     "text": [
      "enter a number : 23\n"
     ]
    },
    {
     "name": "stdout",
     "output_type": "stream",
     "text": [
      "23 is positive\n",
      "this line is inside if\n"
     ]
    }
   ],
   "source": [
    "a=int(input(\"enter a number :\"))\n",
    "\n",
    "if a>0:\n",
    "    print(\"%d is positive\" %a)\n",
    "    print(\"this line is inside if\")\n",
    "\n",
    "\n",
    "if a<0:\n",
    "    print(\"%d is negative\" %a)\n",
    "    print(\"this line is outside if\")\n",
    "    \n",
    "\n",
    "            \n",
    "            "
   ]
  },
  {
   "cell_type": "markdown",
   "id": "14cc54c1-56e3-4d64-bea4-77e84804837f",
   "metadata": {},
   "source": [
    "# if else"
   ]
  },
  {
   "cell_type": "code",
   "execution_count": null,
   "id": "4822aa13-29a7-49c1-ab6a-a0cab597cecf",
   "metadata": {},
   "outputs": [
    {
     "name": "stdout",
     "output_type": "stream",
     "text": [
      "enter a number : 0\n"
     ]
    },
    {
     "name": "stdout",
     "output_type": "stream",
     "text": [
      "negative number\n"
     ]
    }
   ],
   "source": [
    "a=int(input(\"enter a number :\"))\n",
    "if a>0:\n",
    "    print(\"%d is positive numer\" %a)\n",
    "else:\n",
    "    print(\"negative number\")\n",
    "    "
   ]
  },
  {
   "cell_type": "markdown",
   "id": "63af98c4-fae6-4c01-ad75-45a0e409b55f",
   "metadata": {},
   "source": [
    "# if elif else"
   ]
  },
  {
   "cell_type": "code",
   "execution_count": null,
   "id": "dc50758d-2cb3-44d1-99a6-10a3f49a6646",
   "metadata": {},
   "outputs": [
    {
     "name": "stdout",
     "output_type": "stream",
     "text": [
      "enter a number : 3\n"
     ]
    },
    {
     "name": "stdout",
     "output_type": "stream",
     "text": [
      "3 is positive numer\n"
     ]
    }
   ],
   "source": [
    "a=int(input(\"enter a number :\"))\n",
    "if a>0:\n",
    "    print(\"%d is positive numer\" %a)\n",
    "elif a<0:\n",
    "    print(\"negative number\")\n",
    "\n",
    "else :\n",
    "    prinrt(\"%d  is zero\" %a)\n",
    "    "
   ]
  },
  {
   "cell_type": "markdown",
   "id": "90b51698-2fa6-4b9e-9319-4ab77792e3b6",
   "metadata": {},
   "source": [
    "# single line  ifelse "
   ]
  },
  {
   "cell_type": "code",
   "execution_count": null,
   "id": "649119d2-3576-468f-a699-fb482aafdaf6",
   "metadata": {},
   "outputs": [
    {
     "name": "stdout",
     "output_type": "stream",
     "text": [
      "kirri\n"
     ]
    }
   ],
   "source": [
    "print(\"kirri\" if True else \"mani\")"
   ]
  },
  {
   "cell_type": "code",
   "execution_count": null,
   "id": "b47c16bf-7008-4370-a6c3-c95479ed3f30",
   "metadata": {},
   "outputs": [
    {
     "name": "stdout",
     "output_type": "stream",
     "text": [
      "enter a number : 66\n"
     ]
    },
    {
     "name": "stdout",
     "output_type": "stream",
     "text": [
      "positive\n"
     ]
    }
   ],
   "source": [
    "a=int(input(\"enter a number :\"))\n",
    "print(\"positive\" if a>5 else \"negative\")"
   ]
  },
  {
   "cell_type": "code",
   "execution_count": null,
   "id": "2e32f61c-af52-4530-9ca0-276d290d2984",
   "metadata": {},
   "outputs": [
    {
     "name": "stdout",
     "output_type": "stream",
     "text": [
      "enter a number : 22\n",
      "enter b number : 334\n"
     ]
    },
    {
     "name": "stdout",
     "output_type": "stream",
     "text": [
      "greater is : 334\n"
     ]
    }
   ],
   "source": [
    "a=int(input(\"enter a number :\"))\n",
    "b=int(input(\"enter b number :\"))\n",
    "c=a if a>b else b\n",
    "print(\"greater is :\", c)"
   ]
  },
  {
   "cell_type": "markdown",
   "id": "1998ddc4-c2a0-4124-99a2-dea9d42f0147",
   "metadata": {},
   "source": [
    "# while loop"
   ]
  },
  {
   "cell_type": "code",
   "execution_count": null,
   "id": "ff33dca4-6c30-41b1-95e0-ce1a21ab8831",
   "metadata": {},
   "outputs": [
    {
     "name": "stdout",
     "output_type": "stream",
     "text": [
      "10\n",
      "11\n",
      "12\n",
      "13\n",
      "14\n",
      "15\n"
     ]
    }
   ],
   "source": [
    "x=10\n",
    "while x<=15:\n",
    "    print(x)\n",
    "    x=x+1\n"
   ]
  },
  {
   "cell_type": "code",
   "execution_count": null,
   "id": "3c572b8d-b22a-4319-bf66-d244e394537b",
   "metadata": {},
   "outputs": [
    {
     "name": "stdout",
     "output_type": "stream",
     "text": [
      "10\n",
      "9\n",
      "8\n",
      "7\n",
      "6\n",
      "5\n",
      "4\n",
      "3\n",
      "2\n",
      "1\n",
      "0\n"
     ]
    }
   ],
   "source": [
    "x=10\n",
    "while x>=0:\n",
    "    print(x)\n",
    "    x=x-1\n"
   ]
  },
  {
   "cell_type": "markdown",
   "id": "376f2fdc-100e-417e-9c38-bd8d73f2c4c4",
   "metadata": {},
   "source": [
    "# for loop"
   ]
  },
  {
   "cell_type": "code",
   "execution_count": null,
   "id": "1e9e095a-8958-4ec4-a262-1a56d07047da",
   "metadata": {},
   "outputs": [
    {
     "name": "stdout",
     "output_type": "stream",
     "text": [
      "enter name kirankirkjhkkkkhkl\n"
     ]
    },
    {
     "name": "stdout",
     "output_type": "stream",
     "text": [
      "count is : 1\n",
      "count is : 2\n",
      "count is : 3\n",
      "count is : 4\n",
      "count is : 5\n",
      "count is : 6\n",
      "count is : 7\n",
      "count is : 8\n"
     ]
    }
   ],
   "source": [
    "x=input(\"enter name\")\n",
    "count=0\n",
    "for e in x:\n",
    "    if e=='k':\n",
    "       count+=1\n",
    "       print(\"count is :\" ,count)"
   ]
  },
  {
   "cell_type": "code",
   "execution_count": null,
   "id": "8099c3d5-eaa8-49a9-8c61-ed7e13cbfeeb",
   "metadata": {},
   "outputs": [
    {
     "name": "stdout",
     "output_type": "stream",
     "text": [
      "0\n",
      "1\n",
      "2\n",
      "3\n",
      "4\n"
     ]
    }
   ],
   "source": [
    "for x in range(5):\n",
    "    print(x)"
   ]
  },
  {
   "cell_type": "code",
   "execution_count": null,
   "id": "9137ad27-643a-4fef-bc90-a035b8b1e09c",
   "metadata": {},
   "outputs": [
    {
     "name": "stdout",
     "output_type": "stream",
     "text": [
      "range(0, 5)\n"
     ]
    }
   ],
   "source": [
    "print(range(5))"
   ]
  },
  {
   "cell_type": "code",
   "execution_count": null,
   "id": "089a357f-1566-4aa7-b69d-11b71aec3ef6",
   "metadata": {},
   "outputs": [
    {
     "name": "stdout",
     "output_type": "stream",
     "text": [
      "1\n",
      "2\n",
      "3\n",
      "4\n",
      "5\n"
     ]
    }
   ],
   "source": [
    " y=range(5)\n",
    "for x in y:\n",
    "    print(x+1)"
   ]
  },
  {
   "cell_type": "code",
   "execution_count": null,
   "id": "8b67c368-b934-4fa9-87af-1d4e08096f46",
   "metadata": {},
   "outputs": [
    {
     "name": "stdout",
     "output_type": "stream",
     "text": [
      "5\n",
      "6\n",
      "7\n",
      "8\n",
      "9\n"
     ]
    }
   ],
   "source": [
    "for x in range(5,10):\n",
    "  print(x)\n"
   ]
  },
  {
   "cell_type": "code",
   "execution_count": null,
   "id": "d7f2699a-73a5-4509-bf6d-40428e36d7c9",
   "metadata": {},
   "outputs": [
    {
     "name": "stdout",
     "output_type": "stream",
     "text": [
      "5\n",
      "8\n",
      "11\n",
      "14\n",
      "17\n",
      "20\n",
      "23\n",
      "26\n",
      "29\n"
     ]
    }
   ],
   "source": [
    "for x in range(5,30,3):\n",
    "    print(x)"
   ]
  },
  {
   "cell_type": "code",
   "execution_count": null,
   "id": "5876380c-b61e-4dfe-93ee-68ac5cfd6d7f",
   "metadata": {},
   "outputs": [
    {
     "name": "stdout",
     "output_type": "stream",
     "text": [
      "30\n",
      "28\n",
      "26\n",
      "24\n",
      "22\n",
      "20\n",
      "18\n",
      "16\n",
      "14\n",
      "12\n",
      "10\n",
      "8\n",
      "6\n",
      "4\n",
      "2\n"
     ]
    }
   ],
   "source": [
    "for x in range(30,0,-2):\n",
    "       print(x)"
   ]
  },
  {
   "cell_type": "markdown",
   "id": "1cab2812-4833-425f-a3c7-3a2e21a7773f",
   "metadata": {},
   "source": [
    "# Break\n",
    "\n",
    "\n"
   ]
  },
  {
   "cell_type": "code",
   "execution_count": null,
   "id": "8e5ac073-4a4e-4c26-b8a2-71f61772d3cc",
   "metadata": {},
   "outputs": [
    {
     "name": "stdout",
     "output_type": "stream",
     "text": [
      "enter an even number 1\n",
      "enter an even number 5\n",
      "enter an even number 9\n"
     ]
    },
    {
     "name": "stdout",
     "output_type": "stream",
     "text": [
      "you lost\n"
     ]
    }
   ],
   "source": [
    "chance=1\n",
    "while chance<=3:\n",
    "    x=int(input(\"enter an even number\"))\n",
    "    if x%2==0:\n",
    "       break\n",
    "    chance+=1\n",
    "if chance==4:\n",
    "    print(\"you lost\")\n",
    "else:\n",
    "    print(\"you win\")"
   ]
  },
  {
   "cell_type": "markdown",
   "id": "3a9fa46a-327d-4a38-89a9-c22c033ea686",
   "metadata": {},
   "source": [
    "# continue"
   ]
  },
  {
   "cell_type": "code",
   "execution_count": null,
   "id": "69358387-3524-4aca-908d-3a61c289b24b",
   "metadata": {},
   "outputs": [
    {
     "name": "stdout",
     "output_type": "stream",
     "text": [
      "1\n",
      "2\n",
      "3\n",
      "4\n",
      "6\n",
      "7\n",
      "8\n",
      "9\n",
      "11\n",
      "12\n",
      "13\n",
      "14\n",
      "16\n",
      "17\n",
      "18\n",
      "19\n",
      "21\n",
      "22\n",
      "23\n",
      "24\n"
     ]
    }
   ],
   "source": [
    "x=1 \n",
    "while x<=24:\n",
    "    if x%5==0:\n",
    "        x=x+1\n",
    "        continue\n",
    "    print(x)\n",
    "    x=x+1\n"
   ]
  },
  {
   "cell_type": "markdown",
   "id": "e41d69f1-e333-4b02-874c-b9e2ca28bbdc",
   "metadata": {},
   "source": [
    "# pass\n"
   ]
  },
  {
   "cell_type": "raw",
   "id": "c7b91283-3435-471b-abb1-20decc5cab02",
   "metadata": {},
   "source": [
    "If you want to emty the block u can use pass \n",
    "ex:  if condition:\n",
    "     print(\"  \")\n",
    "above error indentation\n",
    "\n",
    "  if u use pass\n",
    "\n",
    "      if condition:\n",
    "       pass\n",
    "     print(\"  \")\n",
    "valid statement"
   ]
  },
  {
   "cell_type": "markdown",
   "id": "ffc12997-f905-41c0-915c-4e7b5b0db617",
   "metadata": {},
   "source": [
    "# while and for else"
   ]
  },
  {
   "cell_type": "code",
   "execution_count": null,
   "id": "53be2403-6a32-40fa-a705-40adc7991ee3",
   "metadata": {},
   "outputs": [
    {
     "name": "stdout",
     "output_type": "stream",
     "text": [
      "enter an even number 1\n",
      "enter an even number 3\n",
      "enter an even number 5\n"
     ]
    },
    {
     "name": "stdout",
     "output_type": "stream",
     "text": [
      "you lost\n"
     ]
    }
   ],
   "source": [
    "i=1\n",
    "while i<=3:\n",
    "     x=int(input(\"enter an even number\"))\n",
    "     if x%2==0:\n",
    "         print(\"you win\")\n",
    "         break\n",
    "     i=i+1\n",
    "else:\n",
    "    print(\"you lost\")"
   ]
  },
  {
   "cell_type": "code",
   "execution_count": null,
   "id": "86bcd748-5460-4373-a7e1-91b4ea4d9559",
   "metadata": {},
   "outputs": [
    {
     "name": "stdout",
     "output_type": "stream",
     "text": [
      "enter an even number 10\n",
      "enter an even number 30\n"
     ]
    },
    {
     "name": "stdout",
     "output_type": "stream",
     "text": [
      "11 is prime in range\n",
      "13 is prime in range\n",
      "17 is prime in range\n",
      "19 is prime in range\n",
      "23 is prime in range\n",
      "29 is prime in range\n"
     ]
    }
   ],
   "source": [
    "x=int(input(\"enter an even number\"))         \n",
    "y=int(input(\"enter an even number\")) \n",
    "s=range(x,y)\n",
    "for a in s:\n",
    "    for num in range(2,a):\n",
    "        if a%num==0:\n",
    "         break\n",
    "    else:\n",
    "        print(a,\"is prime in range\")\n",
    "    "
   ]
  },
  {
   "cell_type": "markdown",
   "id": "2b227324",
   "metadata": {},
   "source": [
    "# list"
   ]
  },
  {
   "cell_type": "code",
   "execution_count": null,
   "id": "20b69596",
   "metadata": {},
   "outputs": [],
   "source": [
    "l= [] # emty list"
   ]
  },
  {
   "cell_type": "code",
   "execution_count": null,
   "id": "889d6732",
   "metadata": {},
   "outputs": [],
   "source": [
    "# l=[1,3,4,5]   list with values"
   ]
  },
  {
   "cell_type": "code",
   "execution_count": null,
   "id": "52eb8fa2",
   "metadata": {},
   "outputs": [
    {
     "name": "stdout",
     "output_type": "stream",
     "text": [
      "[10, 20, 30]\n"
     ]
    }
   ],
   "source": [
    "l=[]\n",
    "l.append(10)\n",
    "l.append(20)\n",
    "l.append(30)\n",
    "print(l)"
   ]
  },
  {
   "cell_type": "code",
   "execution_count": null,
   "id": "d5b924a6",
   "metadata": {},
   "outputs": [
    {
     "name": "stdout",
     "output_type": "stream",
     "text": [
      "10 20 30\n"
     ]
    }
   ],
   "source": [
    "l=[]\n",
    "l.append(10)\n",
    "l.append(20)\n",
    "l.append(30)\n",
    "print(l[0],l[1],l[2])"
   ]
  },
  {
   "cell_type": "code",
   "execution_count": null,
   "id": "e8717ef1",
   "metadata": {},
   "outputs": [
    {
     "name": "stdout",
     "output_type": "stream",
     "text": [
      "10\n",
      "20\n",
      "30\n"
     ]
    }
   ],
   "source": [
    "l=[]\n",
    "l.append(10)\n",
    "l.append(20)\n",
    "l.append(30)\n",
    "for x in l:\n",
    "   print(x)"
   ]
  },
  {
   "cell_type": "code",
   "execution_count": null,
   "id": "ec21c525",
   "metadata": {},
   "outputs": [],
   "source": [
    "l=[]\n",
    "l1=[10,20,30]\n",
    "l4=[\"kirri\",\"mani\"]\n",
    "l3=[10,10.4,\"kirri\"]"
   ]
  },
  {
   "cell_type": "code",
   "execution_count": null,
   "id": "b4669cbd",
   "metadata": {},
   "outputs": [
    {
     "data": {
      "text/plain": [
       "[20, 90, 30, 40, 50, 80]"
      ]
     },
     "execution_count": 14,
     "metadata": {},
     "output_type": "execute_result"
    }
   ],
   "source": [
    "a=[20,30,40,50]\n",
    "a.append(80) # append will add the value to last in index\n",
    "a.insert(1,90) # insert will add the value which index position do u want their add\n",
    "a"
   ]
  },
  {
   "cell_type": "code",
   "execution_count": null,
   "id": "38a3a89c",
   "metadata": {},
   "outputs": [
    {
     "data": {
      "text/plain": [
       "[20, 30, 40, 20, 30, 40, 20, 30, 40]"
      ]
     },
     "execution_count": 16,
     "metadata": {},
     "output_type": "execute_result"
    }
   ],
   "source": [
    "a=[20,30,40]\n",
    "a*=3\n",
    "a"
   ]
  },
  {
   "cell_type": "code",
   "execution_count": null,
   "id": "daf1dd56",
   "metadata": {},
   "outputs": [
    {
     "data": {
      "text/plain": [
       "[100, 20, 30]"
      ]
     },
     "execution_count": 17,
     "metadata": {},
     "output_type": "execute_result"
    }
   ],
   "source": [
    "mylist=[10,20,30]\n",
    "mylist[0]=100\n",
    "mylist\n",
    "\n"
   ]
  },
  {
   "cell_type": "code",
   "execution_count": null,
   "id": "6e896f86",
   "metadata": {},
   "outputs": [
    {
     "data": {
      "text/plain": [
       "[10, 30]"
      ]
     },
     "execution_count": 22,
     "metadata": {},
     "output_type": "execute_result"
    }
   ],
   "source": [
    "mylist=[10,20,30]\n",
    "mylist.remove(20)\n",
    "mylist "
   ]
  },
  {
   "cell_type": "code",
   "execution_count": null,
   "id": "23bfadbf",
   "metadata": {},
   "outputs": [
    {
     "data": {
      "text/plain": [
       "[10, 10, 20, 20, 20, 30, 30, 30]"
      ]
     },
     "execution_count": 25,
     "metadata": {},
     "output_type": "execute_result"
    }
   ],
   "source": [
    "mylist=[10,20,30]\n",
    "mylist*=3 # it will multiply with 3\n",
    "mylist.remove(10) # it will remove the value     here remove will remove the value     (but pop will remove index value)\n",
    "mylist.sort() # low to high values print\n",
    "mylist\n"
   ]
  },
  {
   "cell_type": "code",
   "execution_count": null,
   "id": "2899ed33",
   "metadata": {},
   "outputs": [
    {
     "data": {
      "text/plain": [
       "[]"
      ]
     },
     "execution_count": 27,
     "metadata": {},
     "output_type": "execute_result"
    }
   ],
   "source": [
    "x=[10,20,30]\n",
    "x.clear() # to clear all list values\n",
    "x\n"
   ]
  },
  {
   "cell_type": "code",
   "execution_count": null,
   "id": "ed6828b5",
   "metadata": {},
   "outputs": [
    {
     "data": {
      "text/plain": [
       "[30, 20, 10]"
      ]
     },
     "execution_count": 28,
     "metadata": {},
     "output_type": "execute_result"
    }
   ],
   "source": [
    "x=[10,20,30]\n",
    "x.reverse() # reverse the values\n",
    "x"
   ]
  },
  {
   "cell_type": "code",
   "execution_count": null,
   "id": "e038fbf1",
   "metadata": {},
   "outputs": [
    {
     "data": {
      "text/plain": [
       "30"
      ]
     },
     "execution_count": 29,
     "metadata": {},
     "output_type": "execute_result"
    }
   ],
   "source": [
    "x=[10,20,30]\n",
    "x.pop() # by defalut it remove last index value"
   ]
  },
  {
   "cell_type": "code",
   "execution_count": null,
   "id": "32cd4f3f",
   "metadata": {},
   "outputs": [
    {
     "data": {
      "text/plain": [
       "10"
      ]
     },
     "execution_count": 33,
     "metadata": {},
     "output_type": "execute_result"
    }
   ],
   "source": [
    "y=[10,20,40]\n",
    "y.pop(0) # here index 0  so it is removed 10 from list"
   ]
  },
  {
   "cell_type": "code",
   "execution_count": null,
   "id": "9a9fc04f",
   "metadata": {},
   "outputs": [
    {
     "data": {
      "text/plain": [
       "[20, 40]"
      ]
     },
     "execution_count": 34,
     "metadata": {},
     "output_type": "execute_result"
    }
   ],
   "source": [
    "y\n"
   ]
  },
  {
   "cell_type": "code",
   "execution_count": null,
   "id": "5c00910c",
   "metadata": {},
   "outputs": [
    {
     "data": {
      "text/plain": [
       "4"
      ]
     },
     "execution_count": 35,
     "metadata": {},
     "output_type": "execute_result"
    }
   ],
   "source": [
    "z=[10,20,30,10,40,50,10,60,10]\n",
    "z.count(10) # it will count 10 is how many times printing"
   ]
  },
  {
   "cell_type": "code",
   "execution_count": null,
   "id": "6c82de7d",
   "metadata": {},
   "outputs": [
    {
     "data": {
      "text/plain": [
       "['dfgfd', 'kikkk']"
      ]
     },
     "execution_count": 38,
     "metadata": {},
     "output_type": "execute_result"
    }
   ],
   "source": [
    "x=[\"kikkk\",\"dfgfd\"]\n",
    "x.sort()\n",
    "x"
   ]
  },
  {
   "cell_type": "markdown",
   "id": "d379868e",
   "metadata": {},
   "source": [
    "# Strings\n"
   ]
  },
  {
   "cell_type": "markdown",
   "id": "0bef82d1",
   "metadata": {},
   "source": [
    "1. \"kirri\"\n",
    "2. 'kirri'\n",
    "3. '''kirri'''\n",
    "4. \"\"\" kirri\"\"\""
   ]
  },
  {
   "cell_type": "code",
   "execution_count": null,
   "id": "2c2922e6",
   "metadata": {},
   "outputs": [
    {
     "data": {
      "text/plain": [
       "\"Dont' avoid practice\""
      ]
     },
     "execution_count": 2,
     "metadata": {},
     "output_type": "execute_result"
    }
   ],
   "source": [
    "s1=\"Dont' avoid practice\"\n",
    "s1"
   ]
  },
  {
   "cell_type": "code",
   "execution_count": null,
   "id": "1bd0b699",
   "metadata": {},
   "outputs": [
    {
     "name": "stdout",
     "output_type": "stream",
     "text": [
      "Dont' avoid practice\n"
     ]
    }
   ],
   "source": [
    "print(s1) "
   ]
  },
  {
   "cell_type": "code",
   "execution_count": null,
   "id": "de946d67",
   "metadata": {},
   "outputs": [
    {
     "name": "stdout",
     "output_type": "stream",
     "text": [
      "\"kiran \"\n"
     ]
    }
   ],
   "source": [
    "# if u want to print double cotation result \n",
    "s1='\"kiran \"'\n",
    "print (s1)\n",
    "\n"
   ]
  },
  {
   "cell_type": "code",
   "execution_count": null,
   "id": "41a91fc1",
   "metadata": {},
   "outputs": [
    {
     "name": "stdout",
     "output_type": "stream",
     "text": [
      " teacher's day is \"my day\" \n"
     ]
    }
   ],
   "source": [
    "s1=''' teacher's day is \"my day\" '''\n",
    "print(s1)"
   ]
  },
  {
   "cell_type": "code",
   "execution_count": null,
   "id": "a12fe5a5",
   "metadata": {},
   "outputs": [
    {
     "name": "stdout",
     "output_type": "stream",
     "text": [
      "kirri \n",
      "sai\n",
      "vamshi\n",
      "pavan\n"
     ]
    }
   ],
   "source": [
    "s1='''kirri \n",
    "sai\n",
    "vamshi\n",
    "pavan'''\n",
    "print(s1)"
   ]
  },
  {
   "cell_type": "code",
   "execution_count": null,
   "id": "6a195b71",
   "metadata": {},
   "outputs": [
    {
     "data": {
      "text/plain": [
       "12"
      ]
     },
     "execution_count": 11,
     "metadata": {},
     "output_type": "execute_result"
    }
   ],
   "source": [
    "# calulate string length\n",
    "s=\"kiran kirri \"\n",
    "len(s)"
   ]
  },
  {
   "cell_type": "code",
   "execution_count": null,
   "id": "75b6a576",
   "metadata": {},
   "outputs": [
    {
     "data": {
      "text/plain": [
       "1"
      ]
     },
     "execution_count": 22,
     "metadata": {},
     "output_type": "execute_result"
    }
   ],
   "source": [
    " # how to obtain string index?\n",
    "s.index('i')\n",
    "\n"
   ]
  },
  {
   "cell_type": "code",
   "execution_count": null,
   "id": "b3928f73",
   "metadata": {},
   "outputs": [
    {
     "data": {
      "text/plain": [
       "3"
      ]
     },
     "execution_count": 23,
     "metadata": {},
     "output_type": "execute_result"
    }
   ],
   "source": [
    "s.count('i')"
   ]
  },
  {
   "cell_type": "code",
   "execution_count": null,
   "id": "18087b78",
   "metadata": {},
   "outputs": [
    {
     "data": {
      "text/plain": [
       "'ran k'"
      ]
     },
     "execution_count": 25,
     "metadata": {},
     "output_type": "execute_result"
    }
   ],
   "source": [
    "s1=\"kiran kirri \"\n",
    "s1[2:7] "
   ]
  },
  {
   "cell_type": "code",
   "execution_count": null,
   "id": "2cb89fae",
   "metadata": {},
   "outputs": [
    {
     "data": {
      "text/plain": [
       "'nish ma'"
      ]
     },
     "execution_count": 31,
     "metadata": {},
     "output_type": "execute_result"
    }
   ],
   "source": [
    "s2=\"manish mani\"\n",
    "s2[2:-2]"
   ]
  },
  {
   "cell_type": "code",
   "execution_count": null,
   "id": "0778e341",
   "metadata": {},
   "outputs": [
    {
     "data": {
      "text/plain": [
       "'am hs'"
      ]
     },
     "execution_count": 39,
     "metadata": {},
     "output_type": "execute_result"
    }
   ],
   "source": [
    "s2='manish mani'\n",
    "s2[-3:3:-1]"
   ]
  },
  {
   "cell_type": "code",
   "execution_count": null,
   "id": "032f0a02",
   "metadata": {},
   "outputs": [
    {
     "data": {
      "text/plain": [
       "'ujjijhghgbh'"
      ]
     },
     "execution_count": 44,
     "metadata": {},
     "output_type": "execute_result"
    }
   ],
   "source": [
    "s3=\"hbghghjijju\"\n",
    "len(s3)\n",
    "s3[11::-1]"
   ]
  },
  {
   "cell_type": "code",
   "execution_count": null,
   "id": "1e2aba38",
   "metadata": {},
   "outputs": [
    {
     "data": {
      "text/plain": [
       "'HBGHGHJIJJU'"
      ]
     },
     "execution_count": 45,
     "metadata": {},
     "output_type": "execute_result"
    }
   ],
   "source": [
    "s3.upper()"
   ]
  },
  {
   "cell_type": "code",
   "execution_count": null,
   "id": "4f1b4bfd",
   "metadata": {},
   "outputs": [
    {
     "data": {
      "text/plain": [
       "'hbghghjijju'"
      ]
     },
     "execution_count": 46,
     "metadata": {},
     "output_type": "execute_result"
    }
   ],
   "source": [
    "s3.lower()"
   ]
  },
  {
   "cell_type": "code",
   "execution_count": null,
   "id": "c0e85f18",
   "metadata": {},
   "outputs": [
    {
     "data": {
      "text/plain": [
       "True"
      ]
     },
     "execution_count": 49,
     "metadata": {},
     "output_type": "execute_result"
    }
   ],
   "source": [
    "s2.startswith(\"mani\")"
   ]
  },
  {
   "cell_type": "code",
   "execution_count": null,
   "id": "bd1b6160",
   "metadata": {},
   "outputs": [
    {
     "data": {
      "text/plain": [
       "True"
      ]
     },
     "execution_count": 50,
     "metadata": {},
     "output_type": "execute_result"
    }
   ],
   "source": [
    "s2.endswith(\"mani\")"
   ]
  },
  {
   "cell_type": "code",
   "execution_count": null,
   "id": "d059c32e",
   "metadata": {},
   "outputs": [
    {
     "data": {
      "text/plain": [
       "['', 'anish ', 'ani']"
      ]
     },
     "execution_count": 54,
     "metadata": {},
     "output_type": "execute_result"
    }
   ],
   "source": [
    "s2.split('m')"
   ]
  },
  {
   "cell_type": "markdown",
   "id": "9cef90d3",
   "metadata": {},
   "source": [
    "# tuple"
   ]
  },
  {
   "cell_type": "markdown",
   "id": "1e518406",
   "metadata": {},
   "source": [
    "this also same like list\n",
    "here we will use ()  (1,2,3)\n",
    "                   index 0,1,2\n",
    "this is immutable u cant change values\n",
    "ex:\n",
    "    t= () # emty tuple\n",
    "    t=(10) #this is not tuple \n",
    "    t=(10,) this is tuple\n",
    "    t=10,20,30 tuple\n",
    "    t(11,2,4 ) tuple\n",
    "    \n",
    "\n",
    "\n"
   ]
  },
  {
   "cell_type": "code",
   "execution_count": null,
   "id": "282e1f2c",
   "metadata": {},
   "outputs": [
    {
     "data": {
      "text/plain": [
       "list"
      ]
     },
     "execution_count": 57,
     "metadata": {},
     "output_type": "execute_result"
    }
   ],
   "source": [
    "# list to tuple conversiion \n",
    "l=[10,20,30]\n",
    "t=tuple(l)\n",
    "type(l)\n",
    "\n"
   ]
  },
  {
   "cell_type": "code",
   "execution_count": null,
   "id": "cf1525f0",
   "metadata": {},
   "outputs": [
    {
     "data": {
      "text/plain": [
       "tuple"
      ]
     },
     "execution_count": 58,
     "metadata": {},
     "output_type": "execute_result"
    }
   ],
   "source": [
    "type(t)"
   ]
  },
  {
   "cell_type": "code",
   "execution_count": null,
   "id": "518aa4fd",
   "metadata": {},
   "outputs": [
    {
     "data": {
      "text/plain": [
       "30"
      ]
     },
     "execution_count": 59,
     "metadata": {},
     "output_type": "execute_result"
    }
   ],
   "source": [
    "t=10,30,40\n",
    "t[1]"
   ]
  },
  {
   "cell_type": "code",
   "execution_count": null,
   "id": "704490f3",
   "metadata": {},
   "outputs": [
    {
     "name": "stdout",
     "output_type": "stream",
     "text": [
      "10\n",
      "20\n",
      "30\n",
      "40\n"
     ]
    }
   ],
   "source": [
    "# tuple access byb ussing (loops and  slicing)\n",
    "t=(10,20,30,40)\n",
    "i=0\n",
    "while  i<len(t):\n",
    "    print(t[i])\n",
    "    i+=1\n"
   ]
  },
  {
   "cell_type": "code",
   "execution_count": null,
   "id": "14fdfda1",
   "metadata": {},
   "outputs": [
    {
     "name": "stdout",
     "output_type": "stream",
     "text": [
      "10\n",
      "20\n",
      "30\n",
      "40\n"
     ]
    }
   ],
   "source": [
    "for x in t:\n",
    "    print(x)"
   ]
  },
  {
   "cell_type": "code",
   "execution_count": null,
   "id": "8bccdd73",
   "metadata": {},
   "outputs": [
    {
     "name": "stdout",
     "output_type": "stream",
     "text": [
      "100\n",
      "400\n",
      "900\n",
      "1600\n"
     ]
    }
   ],
   "source": [
    "for x in t:\n",
    "    print(x*x)"
   ]
  },
  {
   "cell_type": "code",
   "execution_count": null,
   "id": "0f072985",
   "metadata": {},
   "outputs": [
    {
     "data": {
      "text/plain": [
       "(10, 20, 30, 40)"
      ]
     },
     "execution_count": 63,
     "metadata": {},
     "output_type": "execute_result"
    }
   ],
   "source": [
    "t"
   ]
  },
  {
   "cell_type": "code",
   "execution_count": null,
   "id": "8b5f3dba",
   "metadata": {},
   "outputs": [
    {
     "name": "stdout",
     "output_type": "stream",
     "text": [
      "(10, 20, 30, 1, 2, 3)\n"
     ]
    }
   ],
   "source": [
    "# touple to tuple aading\n",
    "k=(10,20,30)\n",
    "k=k+(1,2,3)\n",
    "print(k)"
   ]
  },
  {
   "cell_type": "code",
   "execution_count": null,
   "id": "614892eb",
   "metadata": {},
   "outputs": [
    {
     "data": {
      "text/plain": [
       "(10, 30, 2)"
      ]
     },
     "execution_count": 69,
     "metadata": {},
     "output_type": "execute_result"
    }
   ],
   "source": [
    "# tuple with sclicing \n",
    "k[0::2]"
   ]
  },
  {
   "cell_type": "code",
   "execution_count": null,
   "id": "9792021a",
   "metadata": {},
   "outputs": [
    {
     "data": {
      "text/plain": [
       "(1, 2, 3)"
      ]
     },
     "execution_count": 71,
     "metadata": {},
     "output_type": "execute_result"
    }
   ],
   "source": [
    "# tuple merging with variables\n",
    "a=1\n",
    "b=2\n",
    "c=3\n",
    "t=(a,b,c) # packing\n",
    "t\n"
   ]
  },
  {
   "cell_type": "code",
   "execution_count": null,
   "id": "665cb5c4",
   "metadata": {},
   "outputs": [
    {
     "data": {
      "text/plain": [
       "10"
      ]
     },
     "execution_count": 74,
     "metadata": {},
     "output_type": "execute_result"
    }
   ],
   "source": [
    "# unpacking\n",
    "t=10,20,30\n",
    "a,b,c=t\n",
    "a"
   ]
  },
  {
   "cell_type": "code",
   "execution_count": null,
   "id": "95eef38c",
   "metadata": {},
   "outputs": [
    {
     "data": {
      "text/plain": [
       "20"
      ]
     },
     "execution_count": 75,
     "metadata": {},
     "output_type": "execute_result"
    }
   ],
   "source": [
    "b"
   ]
  },
  {
   "cell_type": "code",
   "execution_count": null,
   "id": "fa6d9844",
   "metadata": {},
   "outputs": [
    {
     "data": {
      "text/plain": [
       "30"
      ]
     },
     "execution_count": 76,
     "metadata": {},
     "output_type": "execute_result"
    }
   ],
   "source": [
    "c"
   ]
  },
  {
   "cell_type": "code",
   "execution_count": null,
   "id": "bb579f71",
   "metadata": {},
   "outputs": [
    {
     "data": {
      "text/plain": [
       "(1, 2, 3, 10, 20)"
      ]
     },
     "execution_count": 77,
     "metadata": {},
     "output_type": "execute_result"
    }
   ],
   "source": [
    "# concatination   +\n",
    "a=1,2,3\n",
    "b=10,20\n",
    "a+b "
   ]
  },
  {
   "cell_type": "code",
   "execution_count": 2,
   "id": "021dd977",
   "metadata": {},
   "outputs": [
    {
     "data": {
      "text/plain": [
       "(1, 2, 3, 1, 2, 3)"
      ]
     },
     "execution_count": 2,
     "metadata": {},
     "output_type": "execute_result"
    }
   ],
   "source": [
    "# repetation operator * it will repeat\n",
    "t=1,2,3\n",
    "t*2\n"
   ]
  },
  {
   "cell_type": "code",
   "execution_count": 3,
   "id": "0d77d237",
   "metadata": {},
   "outputs": [
    {
     "data": {
      "text/plain": [
       "True"
      ]
     },
     "execution_count": 3,
     "metadata": {},
     "output_type": "execute_result"
    }
   ],
   "source": [
    "#comparasion operation ==\n",
    "a=1,2,3\n",
    "b=1,2,3\n",
    "a==b"
   ]
  },
  {
   "cell_type": "code",
   "execution_count": 1,
   "id": "5f8c5ee5",
   "metadata": {},
   "outputs": [
    {
     "ename": "NameError",
     "evalue": "name 'a' is not defined",
     "output_type": "error",
     "traceback": [
      "\u001b[1;31m---------------------------------------------------------------------------\u001b[0m",
      "\u001b[1;31mNameError\u001b[0m                                 Traceback (most recent call last)",
      "Cell \u001b[1;32mIn[1], line 2\u001b[0m\n\u001b[0;32m      1\u001b[0m c\u001b[38;5;241m=\u001b[39m\u001b[38;5;241m1\u001b[39m,\u001b[38;5;241m2\u001b[39m,\u001b[38;5;241m4\u001b[39m\n\u001b[1;32m----> 2\u001b[0m a\u001b[38;5;241m==\u001b[39mc\n",
      "\u001b[1;31mNameError\u001b[0m: name 'a' is not defined"
     ]
    }
   ],
   "source": [
    "c=1,2,4\n",
    "a==c"
   ]
  },
  {
   "cell_type": "code",
   "execution_count": 2,
   "id": "3bb96d61-b819-4bbc-b1ac-de19e04456a6",
   "metadata": {},
   "outputs": [
    {
     "name": "stdin",
     "output_type": "stream",
     "text": [
      "enter the value 1,2,3\n"
     ]
    }
   ],
   "source": [
    " # tuple  input \n",
    "x=tuple(input(\"enter the value\"))\n",
    "\n"
   ]
  },
  {
   "cell_type": "code",
   "execution_count": 3,
   "id": "9e2f0f22-1f7d-406b-8530-6c56ebe8aea4",
   "metadata": {},
   "outputs": [
    {
     "data": {
      "text/plain": [
       "tuple"
      ]
     },
     "execution_count": 3,
     "metadata": {},
     "output_type": "execute_result"
    }
   ],
   "source": [
    "type(x)"
   ]
  },
  {
   "cell_type": "code",
   "execution_count": 6,
   "id": "68058182-2575-4fa4-85ed-07922bda96bc",
   "metadata": {},
   "outputs": [
    {
     "name": "stdin",
     "output_type": "stream",
     "text": [
      "enter the value 1,2,3\n"
     ]
    }
   ],
   "source": [
    "x=eval(input(\"enter the value\"))\n"
   ]
  },
  {
   "cell_type": "code",
   "execution_count": 8,
   "id": "02a918bf-3410-49fd-afa3-6f78f44b85db",
   "metadata": {},
   "outputs": [
    {
     "data": {
      "text/plain": [
       "(1, 2, 3)"
      ]
     },
     "execution_count": 8,
     "metadata": {},
     "output_type": "execute_result"
    }
   ],
   "source": [
    "x\n",
    "\n"
   ]
  },
  {
   "cell_type": "code",
   "execution_count": 9,
   "id": "6d44c0fe-160c-4659-9cff-578be572fbe9",
   "metadata": {},
   "outputs": [
    {
     "name": "stdin",
     "output_type": "stream",
     "text": [
      "enter the value 1,2,3\n"
     ]
    },
    {
     "name": "stdout",
     "output_type": "stream",
     "text": [
      "sum is 6\n"
     ]
    }
   ],
   "source": [
    "# sum with tuple\n",
    "x=eval(input(\"enter the value\"))\n",
    "s=0\n",
    "for e in x:\n",
    "    s=s+e\n",
    "print(\"sum is\", s)"
   ]
  },
  {
   "cell_type": "markdown",
   "id": "a27aabdb-7547-409e-969f-e97ca81693e5",
   "metadata": {},
   "source": [
    "# sets"
   ]
  },
  {
   "cell_type": "code",
   "execution_count": 17,
   "id": "2a42abee-4393-4de2-922a-c5d3b441e1fb",
   "metadata": {},
   "outputs": [],
   "source": [
    "s={10,20,30,40}\n"
   ]
  },
  {
   "cell_type": "code",
   "execution_count": 18,
   "id": "979a0f79-5675-4ee2-be15-a94d4fe751d0",
   "metadata": {},
   "outputs": [
    {
     "data": {
      "text/plain": [
       "set"
      ]
     },
     "execution_count": 18,
     "metadata": {},
     "output_type": "execute_result"
    }
   ],
   "source": [
    "type(s)"
   ]
  },
  {
   "cell_type": "code",
   "execution_count": 19,
   "id": "e56a075d-0796-4ca2-b08a-d455b0f6b124",
   "metadata": {},
   "outputs": [
    {
     "data": {
      "text/plain": [
       "{10, 20, 30, 40, 50}"
      ]
     },
     "execution_count": 19,
     "metadata": {},
     "output_type": "execute_result"
    }
   ],
   "source": [
    "s={10,20,30,40,10,20,30,50} # single time it will print\n",
    "s"
   ]
  },
  {
   "cell_type": "code",
   "execution_count": 22,
   "id": "f744b557-2409-4541-9c4d-39f9805042a0",
   "metadata": {},
   "outputs": [
    {
     "data": {
      "text/plain": [
       "set"
      ]
     },
     "execution_count": 22,
     "metadata": {},
     "output_type": "execute_result"
    }
   ],
   "source": [
    "# emty set \n",
    "s=set()\n",
    "type(s)\n"
   ]
  },
  {
   "cell_type": "code",
   "execution_count": 25,
   "id": "88dc1085-e341-45a1-9999-f305488c3dba",
   "metadata": {},
   "outputs": [
    {
     "data": {
      "text/plain": [
       "'s=set(10,20,30)  not valid\\n     s=set(10)     not valid'"
      ]
     },
     "execution_count": 25,
     "metadata": {},
     "output_type": "execute_result"
    }
   ],
   "source": [
    " '''s=set(10,20,30)  not valid\n",
    "      s=set(10)     not valid'''\n",
    "\n",
    "      \n",
    "      "
   ]
  },
  {
   "cell_type": "code",
   "execution_count": 28,
   "id": "8ae319fe-2569-4ba8-bba7-1ab1208d81f3",
   "metadata": {},
   "outputs": [
    {
     "data": {
      "text/plain": [
       "{10, 20, 30}"
      ]
     },
     "execution_count": 28,
     "metadata": {},
     "output_type": "execute_result"
    }
   ],
   "source": [
    "# valid will list tuple range\n",
    "s=set([10,20,30]) # for integers\n",
    "s\n"
   ]
  },
  {
   "cell_type": "code",
   "execution_count": 29,
   "id": "1b4cdaf9-315e-4ad3-b0af-119dc1604b4e",
   "metadata": {},
   "outputs": [
    {
     "data": {
      "text/plain": [
       "set"
      ]
     },
     "execution_count": 29,
     "metadata": {},
     "output_type": "execute_result"
    }
   ],
   "source": [
    "type(s)"
   ]
  },
  {
   "cell_type": "code",
   "execution_count": 31,
   "id": "cf33528d-a666-4d17-9845-081c3ad7f259",
   "metadata": {},
   "outputs": [
    {
     "data": {
      "text/plain": [
       "{'a', 'i', 'k', 'n', 'r'}"
      ]
     },
     "execution_count": 31,
     "metadata": {},
     "output_type": "execute_result"
    }
   ],
   "source": [
    "s=set(\"kiran\")\n",
    "s"
   ]
  },
  {
   "cell_type": "code",
   "execution_count": 36,
   "id": "7b04d2e8-e602-424e-a9ed-f02e26616ea3",
   "metadata": {},
   "outputs": [
    {
     "data": {
      "text/plain": [
       "{1, 3, 4, 5}"
      ]
     },
     "execution_count": 36,
     "metadata": {},
     "output_type": "execute_result"
    }
   ],
   "source": [
    "# adding numbers to set\n",
    "s={1,3,5}\n",
    "s.add(4,)\n",
    "s"
   ]
  },
  {
   "cell_type": "code",
   "execution_count": 38,
   "id": "e7e904fb-1f35-44b9-a9df-a94016221c0f",
   "metadata": {},
   "outputs": [
    {
     "data": {
      "text/plain": [
       "{1, 3, 4, 5, 'kirri'}"
      ]
     },
     "execution_count": 38,
     "metadata": {},
     "output_type": "execute_result"
    }
   ],
   "source": [
    "s.add(\"kirri\")\n",
    "s"
   ]
  },
  {
   "cell_type": "code",
   "execution_count": 40,
   "id": "8a1616e9-4f55-416e-8b72-9082f30a1795",
   "metadata": {},
   "outputs": [
    {
     "data": {
      "text/plain": [
       "{1, 2, 3, 4, 5, 6}"
      ]
     },
     "execution_count": 40,
     "metadata": {},
     "output_type": "execute_result"
    }
   ],
   "source": [
    "# set union operation\n",
    "s={1,2,3}\n",
    "l=[1,3,4,5,6]\n",
    "s.update(l)\n",
    "s"
   ]
  },
  {
   "cell_type": "code",
   "execution_count": 41,
   "id": "6c1a5379-60d7-4a52-96d5-f356ba76eec8",
   "metadata": {},
   "outputs": [
    {
     "data": {
      "text/plain": [
       "{1, 2, 3, 4, 5, 6}"
      ]
     },
     "execution_count": 41,
     "metadata": {},
     "output_type": "execute_result"
    }
   ],
   "source": [
    " # discord method delete or remove function\n",
    "s.discard(7) # it will not show error \n",
    "s\n"
   ]
  },
  {
   "cell_type": "code",
   "execution_count": 42,
   "id": "b5436ba4-f714-4330-b7a4-0c5bd92e7136",
   "metadata": {},
   "outputs": [
    {
     "ename": "KeyError",
     "evalue": "7",
     "output_type": "error",
     "traceback": [
      "\u001b[1;31m---------------------------------------------------------------------------\u001b[0m",
      "\u001b[1;31mKeyError\u001b[0m                                  Traceback (most recent call last)",
      "Cell \u001b[1;32mIn[42], line 1\u001b[0m\n\u001b[1;32m----> 1\u001b[0m s\u001b[38;5;241m.\u001b[39mremove(\u001b[38;5;241m7\u001b[39m)\n",
      "\u001b[1;31mKeyError\u001b[0m: 7"
     ]
    }
   ],
   "source": [
    "s.remove(7) # if u have the value then only use this remove "
   ]
  },
  {
   "cell_type": "code",
   "execution_count": 43,
   "id": "a9a9fdc0-6184-405b-8b4a-0996dd2f4946",
   "metadata": {},
   "outputs": [
    {
     "data": {
      "text/plain": [
       "{(3, 4), (5, 6), 1, 2}"
      ]
     },
     "execution_count": 43,
     "metadata": {},
     "output_type": "execute_result"
    }
   ],
   "source": [
    "s={1,2,(3,4),(5,6)}\n",
    "s"
   ]
  },
  {
   "cell_type": "code",
   "execution_count": 45,
   "id": "c6e980c7-6eaa-4c1d-961f-f225a695db8b",
   "metadata": {},
   "outputs": [
    {
     "data": {
      "text/plain": [
       "{(3, 4), 1, 2}"
      ]
     },
     "execution_count": 45,
     "metadata": {},
     "output_type": "execute_result"
    }
   ],
   "source": [
    "s.discard((5,6))\n",
    "s"
   ]
  },
  {
   "cell_type": "code",
   "execution_count": 49,
   "id": "9e904d8d-ba57-434d-a751-6a7bd091e738",
   "metadata": {},
   "outputs": [
    {
     "data": {
      "text/plain": [
       "{2, 3}"
      ]
     },
     "execution_count": 49,
     "metadata": {},
     "output_type": "execute_result"
    }
   ],
   "source": [
    "# intersection \n",
    "s1={1,2,3,4,5}\n",
    "s2={2,3,10,244}\n",
    "s1.intersection(s2)"
   ]
  },
  {
   "cell_type": "code",
   "execution_count": 50,
   "id": "c0b2f7c4-b817-4252-8860-a9cedcc0b864",
   "metadata": {},
   "outputs": [],
   "source": [
    "s1.clear()"
   ]
  },
  {
   "cell_type": "code",
   "execution_count": 51,
   "id": "5504c78f-ea63-47f3-8f1b-d56b3f05d5b4",
   "metadata": {},
   "outputs": [
    {
     "data": {
      "text/plain": [
       "True"
      ]
     },
     "execution_count": 51,
     "metadata": {},
     "output_type": "execute_result"
    }
   ],
   "source": [
    "# is subset\n",
    "# is superset\n",
    "s1={1,2,3,4,5}\n",
    "s2={1,2}\n",
    "s1.issuperset(s2)\n",
    "\n",
    " "
   ]
  },
  {
   "cell_type": "code",
   "execution_count": 54,
   "id": "968cba90-9972-492e-a468-3c94ba0669bf",
   "metadata": {},
   "outputs": [
    {
     "data": {
      "text/plain": [
       "True"
      ]
     },
     "execution_count": 54,
     "metadata": {},
     "output_type": "execute_result"
    }
   ],
   "source": [
    "s2.issubset(s1)"
   ]
  },
  {
   "cell_type": "code",
   "execution_count": 55,
   "id": "84c35929-48d0-4e42-b926-8f432ea02691",
   "metadata": {},
   "outputs": [
    {
     "data": {
      "text/plain": [
       "{1, 2, 3, 4, 5}"
      ]
     },
     "execution_count": 55,
     "metadata": {},
     "output_type": "execute_result"
    }
   ],
   "source": [
    "# pop\n",
    "s1"
   ]
  },
  {
   "cell_type": "code",
   "execution_count": 56,
   "id": "5d1fbc59-2469-4eb6-b98e-0a7847a826a3",
   "metadata": {},
   "outputs": [
    {
     "data": {
      "text/plain": [
       "1"
      ]
     },
     "execution_count": 56,
     "metadata": {},
     "output_type": "execute_result"
    }
   ],
   "source": [
    "s1.pop()"
   ]
  },
  {
   "cell_type": "code",
   "execution_count": 57,
   "id": "4f2d8afa-8203-43b2-acaa-123a3a7e5f6a",
   "metadata": {},
   "outputs": [
    {
     "data": {
      "text/plain": [
       "{2, 3, 4, 5}"
      ]
     },
     "execution_count": 57,
     "metadata": {},
     "output_type": "execute_result"
    }
   ],
   "source": [
    "s1"
   ]
  },
  {
   "cell_type": "code",
   "execution_count": 60,
   "id": "be695f1c-683a-4b36-8d72-53fc25a18539",
   "metadata": {},
   "outputs": [
    {
     "data": {
      "text/plain": [
       "{2, 3, 4, 5}"
      ]
     },
     "execution_count": 60,
     "metadata": {},
     "output_type": "execute_result"
    }
   ],
   "source": [
    "\n",
    "s3=s1.copy()\n",
    "s3"
   ]
  },
  {
   "cell_type": "code",
   "execution_count": 61,
   "id": "78f72190-d8e5-4538-9a41-b9cf1c50c222",
   "metadata": {},
   "outputs": [
    {
     "data": {
      "text/plain": [
       "2638286695424"
      ]
     },
     "execution_count": 61,
     "metadata": {},
     "output_type": "execute_result"
    }
   ],
   "source": [
    "id(s3)"
   ]
  },
  {
   "cell_type": "markdown",
   "id": "655709aa-feaa-4684-be77-622e9eff2d0a",
   "metadata": {},
   "source": [
    "# dictionary(dict)"
   ]
  },
  {
   "cell_type": "code",
   "execution_count": 1,
   "id": "5f2b2fcc-635a-4273-894b-b23bea9b9c6c",
   "metadata": {},
   "outputs": [
    {
     "data": {
      "text/plain": [
       "dict"
      ]
     },
     "execution_count": 1,
     "metadata": {},
     "output_type": "execute_result"
    }
   ],
   "source": [
    "d={}\n",
    "type(d)"
   ]
  },
  {
   "cell_type": "code",
   "execution_count": 2,
   "id": "1584e605-5bac-438b-804e-b81416128fcf",
   "metadata": {},
   "outputs": [
    {
     "data": {
      "text/plain": [
       "dict"
      ]
     },
     "execution_count": 2,
     "metadata": {},
     "output_type": "execute_result"
    }
   ],
   "source": [
    "d=dict()\n",
    "type(d)"
   ]
  },
  {
   "cell_type": "code",
   "execution_count": 4,
   "id": "a02eaf2b-8831-4e6d-9612-34ec41a9906d",
   "metadata": {},
   "outputs": [
    {
     "data": {
      "text/plain": [
       "{100: 'kiran', 101: 'sai', 102: 'pavan'}"
      ]
     },
     "execution_count": 4,
     "metadata": {},
     "output_type": "execute_result"
    }
   ],
   "source": [
    "d={100:'kiran',101:'sai',102:'pavan'}\n",
    "d"
   ]
  },
  {
   "cell_type": "code",
   "execution_count": 5,
   "id": "f53c1a0b-70aa-4153-9822-456ccafeadb3",
   "metadata": {},
   "outputs": [
    {
     "data": {
      "text/plain": [
       "{'one': 'kiran', 'two': 'sai'}"
      ]
     },
     "execution_count": 5,
     "metadata": {},
     "output_type": "execute_result"
    }
   ],
   "source": [
    "d=dict(one='kiran',two='sai')\n",
    "d"
   ]
  },
  {
   "cell_type": "code",
   "execution_count": 6,
   "id": "9450bf5f-00da-431b-aa4d-1b9a083edf3e",
   "metadata": {},
   "outputs": [
    {
     "data": {
      "text/plain": [
       "'sai'"
      ]
     },
     "execution_count": 6,
     "metadata": {},
     "output_type": "execute_result"
    }
   ],
   "source": [
    "d['two']"
   ]
  },
  {
   "cell_type": "code",
   "execution_count": 8,
   "id": "461f8165-cd5f-439a-959a-f79705a1d260",
   "metadata": {},
   "outputs": [
    {
     "data": {
      "text/plain": [
       "{1: 'a', 2: 'b', 3: 'c'}"
      ]
     },
     "execution_count": 8,
     "metadata": {},
     "output_type": "execute_result"
    }
   ],
   "source": [
    "d={1:\"a\",2:\"b\",3:\"c\"}\n",
    "d\n"
   ]
  },
  {
   "cell_type": "code",
   "execution_count": 10,
   "id": "e89d010e-056e-4995-b488-d304cd7cb763",
   "metadata": {},
   "outputs": [
    {
     "data": {
      "text/plain": [
       "{1: 'a', 2: 'b', 3: 'c', 4: 'd'}"
      ]
     },
     "execution_count": 10,
     "metadata": {},
     "output_type": "execute_result"
    }
   ],
   "source": [
    "d[4]=\"d\"\n",
    "d"
   ]
  },
  {
   "cell_type": "code",
   "execution_count": 11,
   "id": "fb69e1a8-840f-41bf-9765-0c508bc728c0",
   "metadata": {},
   "outputs": [
    {
     "data": {
      "text/plain": [
       "{1: 'A', 2: 'b', 3: 'c', 4: 'd'}"
      ]
     },
     "execution_count": 11,
     "metadata": {},
     "output_type": "execute_result"
    }
   ],
   "source": [
    "d[1]=\"A\"\n",
    "d"
   ]
  },
  {
   "cell_type": "code",
   "execution_count": 12,
   "id": "f2eaecf1-734b-43d3-81e9-7a4da5f8872d",
   "metadata": {},
   "outputs": [
    {
     "name": "stdout",
     "output_type": "stream",
     "text": [
      "key= 1 value= A\n",
      "key= 2 value= b\n",
      "key= 3 value= c\n",
      "key= 4 value= d\n"
     ]
    }
   ],
   "source": [
    " for k in d:\n",
    "     print(\"key=\",k,\"value=\",d[k])"
   ]
  },
  {
   "cell_type": "code",
   "execution_count": 13,
   "id": "12e99ff9-d08d-4388-897c-dabf2cb53a6c",
   "metadata": {},
   "outputs": [
    {
     "name": "stdout",
     "output_type": "stream",
     "text": [
      "enter word for letter  a\n"
     ]
    },
    {
     "name": "stdin",
     "output_type": "stream",
     "text": [
      " apple\n"
     ]
    },
    {
     "name": "stdout",
     "output_type": "stream",
     "text": [
      "enter word for letter  b\n"
     ]
    },
    {
     "name": "stdin",
     "output_type": "stream",
     "text": [
      " ball\n"
     ]
    },
    {
     "name": "stdout",
     "output_type": "stream",
     "text": [
      "enter word for letter  c\n"
     ]
    },
    {
     "name": "stdin",
     "output_type": "stream",
     "text": [
      " cat\n"
     ]
    },
    {
     "name": "stdout",
     "output_type": "stream",
     "text": [
      "enter word for letter  d\n"
     ]
    },
    {
     "name": "stdin",
     "output_type": "stream",
     "text": [
      " dog\n"
     ]
    },
    {
     "name": "stdout",
     "output_type": "stream",
     "text": [
      "{'a': 'apple', 'b': 'ball', 'c': 'cat', 'd': 'dog'}\n"
     ]
    }
   ],
   "source": [
    "word={}\n",
    "l=['a','b','c','d']\n",
    "for x in l:\n",
    "    print(\"enter word for letter \",x)\n",
    "    word[x]= input()\n",
    "print(word)\n"
   ]
  },
  {
   "cell_type": "code",
   "execution_count": 14,
   "id": "595c34c2-c7b7-41c9-8a06-af44ed51078f",
   "metadata": {},
   "outputs": [
    {
     "data": {
      "text/plain": [
       "{'a': 'apple', 'b': 'ball', 'c': 'cat', 'd': 'dog'}"
      ]
     },
     "execution_count": 14,
     "metadata": {},
     "output_type": "execute_result"
    }
   ],
   "source": [
    "word\n"
   ]
  },
  {
   "cell_type": "code",
   "execution_count": 15,
   "id": "53cf0619-21ae-4066-abf3-861e28dbe7d0",
   "metadata": {},
   "outputs": [],
   "source": [
    "del(word['b'])"
   ]
  },
  {
   "cell_type": "code",
   "execution_count": 16,
   "id": "f17f0e50-ec2d-45c2-bbf1-613281a3b624",
   "metadata": {},
   "outputs": [
    {
     "data": {
      "text/plain": [
       "{'a': 'apple', 'c': 'cat', 'd': 'dog'}"
      ]
     },
     "execution_count": 16,
     "metadata": {},
     "output_type": "execute_result"
    }
   ],
   "source": [
    "word"
   ]
  },
  {
   "cell_type": "code",
   "execution_count": 18,
   "id": "30c4ea69-4e0c-4ad4-ae23-59a44359fd98",
   "metadata": {},
   "outputs": [],
   "source": [
    "word.clear()\n"
   ]
  },
  {
   "cell_type": "raw",
   "id": "f460a639-54c3-4ff0-bd52-4c2e239b5460",
   "metadata": {},
   "source": [
    "word"
   ]
  },
  {
   "cell_type": "code",
   "execution_count": 20,
   "id": "05cba70a-bdac-4850-87a3-4afc1a59230e",
   "metadata": {},
   "outputs": [
    {
     "data": {
      "text/plain": [
       "{1: 'a', 2: 'b'}"
      ]
     },
     "execution_count": 20,
     "metadata": {},
     "output_type": "execute_result"
    }
   ],
   "source": [
    "d={1:\"a\", 2:\"b\"}\n",
    "d1=d.copy()\n",
    "d"
   ]
  },
  {
   "cell_type": "code",
   "execution_count": 21,
   "id": "ca087ec0-cfe6-41d1-b5d2-b3b9b0b60e9a",
   "metadata": {},
   "outputs": [
    {
     "data": {
      "text/plain": [
       "{1: 'a', 2: 'b'}"
      ]
     },
     "execution_count": 21,
     "metadata": {},
     "output_type": "execute_result"
    }
   ],
   "source": [
    "d1"
   ]
  },
  {
   "cell_type": "code",
   "execution_count": 24,
   "id": "3a614d14-17af-4984-9e70-4ed9eb49bfd0",
   "metadata": {},
   "outputs": [
    {
     "data": {
      "text/plain": [
       "False"
      ]
     },
     "execution_count": 24,
     "metadata": {},
     "output_type": "execute_result"
    }
   ],
   "source": [
    "d is d1"
   ]
  },
  {
   "cell_type": "code",
   "execution_count": 13,
   "id": "a17727cc-6bbc-4394-88ad-186d45679330",
   "metadata": {},
   "outputs": [
    {
     "data": {
      "text/plain": [
       "{1: 'ab', 2: 'ab', 3: 'ab'}"
      ]
     },
     "execution_count": 13,
     "metadata": {},
     "output_type": "execute_result"
    }
   ],
   "source": [
    "\n",
    "l=[1,2,3,]\n",
    "d.fromkeys(l,\"ab\")\n"
   ]
  },
  {
   "cell_type": "code",
   "execution_count": 16,
   "id": "efd810cd-dd1e-4d6b-9f26-fdd0172f1dea",
   "metadata": {},
   "outputs": [
    {
     "data": {
      "text/plain": [
       "'b'"
      ]
     },
     "execution_count": 16,
     "metadata": {},
     "output_type": "execute_result"
    }
   ],
   "source": [
    "d={1: 'a', 2: 'b'}\n",
    "d.get(2)\n"
   ]
  },
  {
   "cell_type": "code",
   "execution_count": 17,
   "id": "55022600-9772-4c18-815c-67b8b72a5adc",
   "metadata": {},
   "outputs": [
    {
     "data": {
      "text/plain": [
       "'b'"
      ]
     },
     "execution_count": 17,
     "metadata": {},
     "output_type": "execute_result"
    }
   ],
   "source": [
    "d[2] # but this will get error"
   ]
  },
  {
   "cell_type": "code",
   "execution_count": 23,
   "id": "a4e24f77-4788-402f-b739-bc4bad2ac67a",
   "metadata": {},
   "outputs": [
    {
     "data": {
      "text/plain": [
       "{'a': 'apple', 'd': 'dog'}"
      ]
     },
     "execution_count": 23,
     "metadata": {},
     "output_type": "execute_result"
    }
   ],
   "source": [
    "d2={'a': 'apple', 'c': 'cat', 'd': 'dog'}\n",
    "d3=d2.pop('c')\n",
    "d2"
   ]
  },
  {
   "cell_type": "code",
   "execution_count": 24,
   "id": "4933b79a-699a-4760-91ae-9e6e77d05f30",
   "metadata": {},
   "outputs": [
    {
     "data": {
      "text/plain": [
       "{'a': 'apple', 'd': 'dog'}"
      ]
     },
     "execution_count": 24,
     "metadata": {},
     "output_type": "execute_result"
    }
   ],
   "source": [
    "d2"
   ]
  },
  {
   "cell_type": "code",
   "execution_count": 26,
   "id": "b9a74160-032e-416c-8f06-d809969208f9",
   "metadata": {},
   "outputs": [],
   "source": [
    "d1={1:'adf',2:'fdgf',3:'ggfg'}"
   ]
  },
  {
   "cell_type": "code",
   "execution_count": 27,
   "id": "07ffc67d-d9a2-429b-863f-f0d3c39bf140",
   "metadata": {},
   "outputs": [],
   "source": [
    "t=d1.popitem()"
   ]
  },
  {
   "cell_type": "code",
   "execution_count": 28,
   "id": "e20b8a24-8429-424e-9ee4-cc99b4baf2ad",
   "metadata": {},
   "outputs": [
    {
     "data": {
      "text/plain": [
       "{1: 'adf', 2: 'fdgf'}"
      ]
     },
     "execution_count": 28,
     "metadata": {},
     "output_type": "execute_result"
    }
   ],
   "source": [
    "d1"
   ]
  },
  {
   "cell_type": "code",
   "execution_count": 29,
   "id": "3657edd2-a792-4fa2-86cd-f72445b78e68",
   "metadata": {},
   "outputs": [
    {
     "data": {
      "text/plain": [
       "tuple"
      ]
     },
     "execution_count": 29,
     "metadata": {},
     "output_type": "execute_result"
    }
   ],
   "source": [
    "type(t)"
   ]
  },
  {
   "cell_type": "code",
   "execution_count": 30,
   "id": "48941195-fba6-43b3-801d-02d9d2757d61",
   "metadata": {},
   "outputs": [
    {
     "data": {
      "text/plain": [
       "(3, 'ggfg')"
      ]
     },
     "execution_count": 30,
     "metadata": {},
     "output_type": "execute_result"
    }
   ],
   "source": [
    "t"
   ]
  },
  {
   "cell_type": "code",
   "execution_count": 31,
   "id": "885952af-c50d-4fdc-a866-cc07b26cf551",
   "metadata": {},
   "outputs": [
    {
     "name": "stdout",
     "output_type": "stream",
     "text": [
      "Help on class dict in module builtins:\n",
      "\n",
      "class dict(object)\n",
      " |  dict() -> new empty dictionary\n",
      " |  dict(mapping) -> new dictionary initialized from a mapping object's\n",
      " |      (key, value) pairs\n",
      " |  dict(iterable) -> new dictionary initialized as if via:\n",
      " |      d = {}\n",
      " |      for k, v in iterable:\n",
      " |          d[k] = v\n",
      " |  dict(**kwargs) -> new dictionary initialized with the name=value pairs\n",
      " |      in the keyword argument list.  For example:  dict(one=1, two=2)\n",
      " |  \n",
      " |  Built-in subclasses:\n",
      " |      StgDict\n",
      " |  \n",
      " |  Methods defined here:\n",
      " |  \n",
      " |  __contains__(self, key, /)\n",
      " |      True if the dictionary has the specified key, else False.\n",
      " |  \n",
      " |  __delitem__(self, key, /)\n",
      " |      Delete self[key].\n",
      " |  \n",
      " |  __eq__(self, value, /)\n",
      " |      Return self==value.\n",
      " |  \n",
      " |  __ge__(self, value, /)\n",
      " |      Return self>=value.\n",
      " |  \n",
      " |  __getattribute__(self, name, /)\n",
      " |      Return getattr(self, name).\n",
      " |  \n",
      " |  __getitem__(...)\n",
      " |      x.__getitem__(y) <==> x[y]\n",
      " |  \n",
      " |  __gt__(self, value, /)\n",
      " |      Return self>value.\n",
      " |  \n",
      " |  __init__(self, /, *args, **kwargs)\n",
      " |      Initialize self.  See help(type(self)) for accurate signature.\n",
      " |  \n",
      " |  __ior__(self, value, /)\n",
      " |      Return self|=value.\n",
      " |  \n",
      " |  __iter__(self, /)\n",
      " |      Implement iter(self).\n",
      " |  \n",
      " |  __le__(self, value, /)\n",
      " |      Return self<=value.\n",
      " |  \n",
      " |  __len__(self, /)\n",
      " |      Return len(self).\n",
      " |  \n",
      " |  __lt__(self, value, /)\n",
      " |      Return self<value.\n",
      " |  \n",
      " |  __ne__(self, value, /)\n",
      " |      Return self!=value.\n",
      " |  \n",
      " |  __or__(self, value, /)\n",
      " |      Return self|value.\n",
      " |  \n",
      " |  __repr__(self, /)\n",
      " |      Return repr(self).\n",
      " |  \n",
      " |  __reversed__(self, /)\n",
      " |      Return a reverse iterator over the dict keys.\n",
      " |  \n",
      " |  __ror__(self, value, /)\n",
      " |      Return value|self.\n",
      " |  \n",
      " |  __setitem__(self, key, value, /)\n",
      " |      Set self[key] to value.\n",
      " |  \n",
      " |  __sizeof__(...)\n",
      " |      D.__sizeof__() -> size of D in memory, in bytes\n",
      " |  \n",
      " |  clear(...)\n",
      " |      D.clear() -> None.  Remove all items from D.\n",
      " |  \n",
      " |  copy(...)\n",
      " |      D.copy() -> a shallow copy of D\n",
      " |  \n",
      " |  get(self, key, default=None, /)\n",
      " |      Return the value for key if key is in the dictionary, else default.\n",
      " |  \n",
      " |  items(...)\n",
      " |      D.items() -> a set-like object providing a view on D's items\n",
      " |  \n",
      " |  keys(...)\n",
      " |      D.keys() -> a set-like object providing a view on D's keys\n",
      " |  \n",
      " |  pop(...)\n",
      " |      D.pop(k[,d]) -> v, remove specified key and return the corresponding value.\n",
      " |      \n",
      " |      If the key is not found, return the default if given; otherwise,\n",
      " |      raise a KeyError.\n",
      " |  \n",
      " |  popitem(self, /)\n",
      " |      Remove and return a (key, value) pair as a 2-tuple.\n",
      " |      \n",
      " |      Pairs are returned in LIFO (last-in, first-out) order.\n",
      " |      Raises KeyError if the dict is empty.\n",
      " |  \n",
      " |  setdefault(self, key, default=None, /)\n",
      " |      Insert key with a value of default if key is not in the dictionary.\n",
      " |      \n",
      " |      Return the value for key if key is in the dictionary, else default.\n",
      " |  \n",
      " |  update(...)\n",
      " |      D.update([E, ]**F) -> None.  Update D from dict/iterable E and F.\n",
      " |      If E is present and has a .keys() method, then does:  for k in E: D[k] = E[k]\n",
      " |      If E is present and lacks a .keys() method, then does:  for k, v in E: D[k] = v\n",
      " |      In either case, this is followed by: for k in F:  D[k] = F[k]\n",
      " |  \n",
      " |  values(...)\n",
      " |      D.values() -> an object providing a view on D's values\n",
      " |  \n",
      " |  ----------------------------------------------------------------------\n",
      " |  Class methods defined here:\n",
      " |  \n",
      " |  __class_getitem__(...) from builtins.type\n",
      " |      See PEP 585\n",
      " |  \n",
      " |  fromkeys(iterable, value=None, /) from builtins.type\n",
      " |      Create a new dictionary with keys from iterable and values set to value.\n",
      " |  \n",
      " |  ----------------------------------------------------------------------\n",
      " |  Static methods defined here:\n",
      " |  \n",
      " |  __new__(*args, **kwargs) from builtins.type\n",
      " |      Create and return a new object.  See help(type) for accurate signature.\n",
      " |  \n",
      " |  ----------------------------------------------------------------------\n",
      " |  Data and other attributes defined here:\n",
      " |  \n",
      " |  __hash__ = None\n",
      "\n"
     ]
    }
   ],
   "source": [
    "help(dict)"
   ]
  },
  {
   "cell_type": "markdown",
   "id": "ac889e75-b0a9-4c1d-a0c7-f2f8f483f6d8",
   "metadata": {},
   "source": [
    "## about input more\n",
    "1.reading single values\n"
   ]
  },
  {
   "cell_type": "code",
   "execution_count": 1,
   "id": "63aa744e-7b4a-41fc-9203-d100240720e9",
   "metadata": {},
   "outputs": [
    {
     "name": "stdin",
     "output_type": "stream",
     "text": [
      "enter the value 2\n"
     ]
    }
   ],
   "source": [
    "a=eval(input(\"enter the value\"))"
   ]
  },
  {
   "cell_type": "code",
   "execution_count": 2,
   "id": "1ba9f729-3f40-49d5-b42f-ef581829c8bd",
   "metadata": {},
   "outputs": [
    {
     "data": {
      "text/plain": [
       "int"
      ]
     },
     "execution_count": 2,
     "metadata": {},
     "output_type": "execute_result"
    }
   ],
   "source": [
    "type(a)"
   ]
  },
  {
   "cell_type": "code",
   "execution_count": 3,
   "id": "d99233ff-704d-4447-928c-1b84514b6fc2",
   "metadata": {},
   "outputs": [
    {
     "name": "stdin",
     "output_type": "stream",
     "text": [
      "enter the value 2.3\n"
     ]
    }
   ],
   "source": [
    "a=eval(input(\"enter the value\"))"
   ]
  },
  {
   "cell_type": "code",
   "execution_count": 4,
   "id": "5ef5310a-4fc7-4869-b99e-649200fdfd79",
   "metadata": {},
   "outputs": [
    {
     "data": {
      "text/plain": [
       "float"
      ]
     },
     "execution_count": 4,
     "metadata": {},
     "output_type": "execute_result"
    }
   ],
   "source": [
    "type(a)"
   ]
  },
  {
   "cell_type": "code",
   "execution_count": 5,
   "id": "a5d0f812-940a-49e6-a5e2-b74689a01472",
   "metadata": {},
   "outputs": [
    {
     "name": "stdin",
     "output_type": "stream",
     "text": [
      "enter the value 2+2j\n"
     ]
    }
   ],
   "source": [
    "a=eval(input(\"enter the value\"))\n"
   ]
  },
  {
   "cell_type": "code",
   "execution_count": 6,
   "id": "3ba5b74c-e05a-45c8-8fd8-7b7ca1473da0",
   "metadata": {},
   "outputs": [
    {
     "data": {
      "text/plain": [
       "complex"
      ]
     },
     "execution_count": 6,
     "metadata": {},
     "output_type": "execute_result"
    }
   ],
   "source": [
    "type(a)"
   ]
  },
  {
   "cell_type": "code",
   "execution_count": 7,
   "id": "da1e630d-8c5b-4b88-954c-d63ae8f7e5d0",
   "metadata": {},
   "outputs": [
    {
     "name": "stdin",
     "output_type": "stream",
     "text": [
      "enter the value [1,2,3]\n"
     ]
    }
   ],
   "source": [
    "a=eval(input(\"enter the value\"))"
   ]
  },
  {
   "cell_type": "code",
   "execution_count": 8,
   "id": "e21bb7b8-f082-4e13-9635-5d442140309d",
   "metadata": {},
   "outputs": [
    {
     "data": {
      "text/plain": [
       "list"
      ]
     },
     "execution_count": 8,
     "metadata": {},
     "output_type": "execute_result"
    }
   ],
   "source": [
    "type(a)"
   ]
  },
  {
   "cell_type": "code",
   "execution_count": 9,
   "id": "3e9a4592-ddce-4c38-93d0-ed4e1754e910",
   "metadata": {},
   "outputs": [
    {
     "name": "stdin",
     "output_type": "stream",
     "text": [
      "enter the value (1,2,3)\n"
     ]
    }
   ],
   "source": [
    "a=eval(input(\"enter the value\"))"
   ]
  },
  {
   "cell_type": "code",
   "execution_count": 10,
   "id": "016c7ff7-70be-4fc2-a42a-7d739a8dc89e",
   "metadata": {},
   "outputs": [
    {
     "data": {
      "text/plain": [
       "tuple"
      ]
     },
     "execution_count": 10,
     "metadata": {},
     "output_type": "execute_result"
    }
   ],
   "source": [
    "type(a)\n"
   ]
  },
  {
   "cell_type": "raw",
   "id": "53b07332-08b2-45ab-8b89-073cd0b656c3",
   "metadata": {},
   "source": [
    "2. Reading multiple values"
   ]
  },
  {
   "cell_type": "code",
   "execution_count": 17,
   "id": "ed465522-0c0d-4313-8077-07fbfdd93826",
   "metadata": {},
   "outputs": [
    {
     "name": "stdin",
     "output_type": "stream",
     "text": [
      "enter the number kiran\n",
      "enter the number kirri\n"
     ]
    }
   ],
   "source": [
    "x,y=input(\"enter the number\"),input(\"enter the number\")   # it is u want to type full text"
   ]
  },
  {
   "cell_type": "code",
   "execution_count": 18,
   "id": "a583ee38-014e-4fdf-ad77-42bcbf67dd90",
   "metadata": {},
   "outputs": [
    {
     "data": {
      "text/plain": [
       "'kiran'"
      ]
     },
     "execution_count": 18,
     "metadata": {},
     "output_type": "execute_result"
    }
   ],
   "source": [
    "x"
   ]
  },
  {
   "cell_type": "code",
   "execution_count": 19,
   "id": "091fd7dc-0f7c-4d45-91f8-319104cc01d1",
   "metadata": {},
   "outputs": [
    {
     "data": {
      "text/plain": [
       "'kirri'"
      ]
     },
     "execution_count": 19,
     "metadata": {},
     "output_type": "execute_result"
    }
   ],
   "source": [
    "y"
   ]
  },
  {
   "cell_type": "code",
   "execution_count": 13,
   "id": "b56e7da3-35cb-4680-b9bb-f888d19889cd",
   "metadata": {},
   "outputs": [
    {
     "name": "stdin",
     "output_type": "stream",
     "text": [
      "enter two numbers   one two\n"
     ]
    }
   ],
   "source": [
    "x,y=input(\"enter two numbers\").split() # it is easy and ucan type more values at a  time"
   ]
  },
  {
   "cell_type": "code",
   "execution_count": 14,
   "id": "db8d23b7-b489-4fa1-8025-71dfdc68932a",
   "metadata": {},
   "outputs": [
    {
     "data": {
      "text/plain": [
       "'one'"
      ]
     },
     "execution_count": 14,
     "metadata": {},
     "output_type": "execute_result"
    }
   ],
   "source": [
    "x"
   ]
  },
  {
   "cell_type": "code",
   "execution_count": 15,
   "id": "dfdc2b21-8402-4e09-b7e9-b65c1031e0f1",
   "metadata": {},
   "outputs": [
    {
     "data": {
      "text/plain": [
       "'two'"
      ]
     },
     "execution_count": 15,
     "metadata": {},
     "output_type": "execute_result"
    }
   ],
   "source": [
    "y\n"
   ]
  },
  {
   "cell_type": "code",
   "execution_count": 23,
   "id": "ca660c3a-79fc-40bc-8826-637fbe877975",
   "metadata": {},
   "outputs": [
    {
     "name": "stdin",
     "output_type": "stream",
     "text": [
      "enter two numbers one,two\n"
     ]
    }
   ],
   "source": [
    "x,y=input(\"enter two numbers\").split(',')"
   ]
  },
  {
   "cell_type": "code",
   "execution_count": 24,
   "id": "0620b413-cd5f-4322-908a-be08610ca8c6",
   "metadata": {},
   "outputs": [
    {
     "data": {
      "text/plain": [
       "'one'"
      ]
     },
     "execution_count": 24,
     "metadata": {},
     "output_type": "execute_result"
    }
   ],
   "source": [
    "x"
   ]
  },
  {
   "cell_type": "code",
   "execution_count": 25,
   "id": "6d938424-627e-4024-a9dc-c72ed3aa6193",
   "metadata": {},
   "outputs": [
    {
     "data": {
      "text/plain": [
       "'two'"
      ]
     },
     "execution_count": 25,
     "metadata": {},
     "output_type": "execute_result"
    }
   ],
   "source": [
    "y\n"
   ]
  },
  {
   "cell_type": "code",
   "execution_count": 32,
   "id": "81718c2f-0122-488a-84db-0eb390013f86",
   "metadata": {},
   "outputs": [
    {
     "name": "stdin",
     "output_type": "stream",
     "text": [
      "enter few words one two three\n"
     ]
    }
   ],
   "source": [
    "x=input(\"enter few words\").split() # for list type \n"
   ]
  },
  {
   "cell_type": "code",
   "execution_count": 33,
   "id": "0c9614f4-2bbf-4600-9ae3-2b32d2f4d45f",
   "metadata": {},
   "outputs": [
    {
     "data": {
      "text/plain": [
       "['one', 'two', 'three']"
      ]
     },
     "execution_count": 33,
     "metadata": {},
     "output_type": "execute_result"
    }
   ],
   "source": [
    "x"
   ]
  },
  {
   "cell_type": "code",
   "execution_count": 34,
   "id": "1c8421c0-9e96-44a0-bbc9-7bf2502d1f46",
   "metadata": {},
   "outputs": [
    {
     "name": "stdin",
     "output_type": "stream",
     "text": [
      "enter date 13/07/1997\n"
     ]
    }
   ],
   "source": [
    "x=input(\"enter date\").split('/')"
   ]
  },
  {
   "cell_type": "code",
   "execution_count": 35,
   "id": "401ef5a8-5620-498b-ab1f-d9f622431786",
   "metadata": {},
   "outputs": [
    {
     "data": {
      "text/plain": [
       "['13', '07', '1997']"
      ]
     },
     "execution_count": 35,
     "metadata": {},
     "output_type": "execute_result"
    }
   ],
   "source": [
    "x"
   ]
  },
  {
   "cell_type": "code",
   "execution_count": 36,
   "id": "08bbb737-4b09-4989-84ce-aa82be9ab36b",
   "metadata": {},
   "outputs": [
    {
     "name": "stdin",
     "output_type": "stream",
     "text": [
      "enter date 13/07/1997\n"
     ]
    }
   ],
   "source": [
    "a,b,c=input(\"enter date\").split('/')"
   ]
  },
  {
   "cell_type": "code",
   "execution_count": 37,
   "id": "e77bf837-5cc1-4f48-8e75-78a73308bcb3",
   "metadata": {},
   "outputs": [
    {
     "data": {
      "text/plain": [
       "'13'"
      ]
     },
     "execution_count": 37,
     "metadata": {},
     "output_type": "execute_result"
    }
   ],
   "source": [
    "a\n"
   ]
  },
  {
   "cell_type": "code",
   "execution_count": 38,
   "id": "92617372-d180-42d4-b4fd-5bdb28bf2ba0",
   "metadata": {},
   "outputs": [
    {
     "data": {
      "text/plain": [
       "'07'"
      ]
     },
     "execution_count": 38,
     "metadata": {},
     "output_type": "execute_result"
    }
   ],
   "source": [
    "b"
   ]
  },
  {
   "cell_type": "code",
   "execution_count": 39,
   "id": "3fb2dda0-a99b-4010-9191-29f21431afaf",
   "metadata": {},
   "outputs": [
    {
     "data": {
      "text/plain": [
       "'1997'"
      ]
     },
     "execution_count": 39,
     "metadata": {},
     "output_type": "execute_result"
    }
   ],
   "source": [
    "c"
   ]
  },
  {
   "cell_type": "code",
   "execution_count": 43,
   "id": "6ec9c05d-c56c-4537-8e5e-82d8008864e1",
   "metadata": {},
   "outputs": [
    {
     "name": "stdin",
     "output_type": "stream",
     "text": [
      "enter date 13/07/1993\n"
     ]
    }
   ],
   "source": [
    "a,b,c=[int(x) for x in input(\"enter date\").split('/')]"
   ]
  },
  {
   "cell_type": "code",
   "execution_count": 44,
   "id": "c17335ea-7722-472c-8a2d-ff65f812c677",
   "metadata": {},
   "outputs": [
    {
     "data": {
      "text/plain": [
       "13"
      ]
     },
     "execution_count": 44,
     "metadata": {},
     "output_type": "execute_result"
    }
   ],
   "source": [
    "a"
   ]
  },
  {
   "cell_type": "code",
   "execution_count": 46,
   "id": "2192dc71-4ccb-4847-8a7c-5ddda0e6d5c3",
   "metadata": {},
   "outputs": [
    {
     "data": {
      "text/plain": [
       "int"
      ]
     },
     "execution_count": 46,
     "metadata": {},
     "output_type": "execute_result"
    }
   ],
   "source": [
    "type(a)"
   ]
  },
  {
   "cell_type": "raw",
   "id": "e82f7264-9021-4183-bac0-aee2cad8e4e0",
   "metadata": {},
   "source": [
    "3.Reading multiple values "
   ]
  },
  {
   "cell_type": "code",
   "execution_count": 53,
   "id": "e7debadf-1ed2-46ec-9ec1-668d578e34aa",
   "metadata": {},
   "outputs": [
    {
     "name": "stdin",
     "output_type": "stream",
     "text": [
      "enter any 'kirrn',12,22.3\n"
     ]
    }
   ],
   "source": [
    "a,b,c=[eval(x) for x in input(\"enter any\").split(',')]\n",
    "\n"
   ]
  },
  {
   "cell_type": "code",
   "execution_count": 54,
   "id": "9ac4661d-80b8-4bb4-a38e-0cdeeb154002",
   "metadata": {},
   "outputs": [
    {
     "data": {
      "text/plain": [
       "int"
      ]
     },
     "execution_count": 54,
     "metadata": {},
     "output_type": "execute_result"
    }
   ],
   "source": [
    "type(b)\n",
    "\n"
   ]
  },
  {
   "cell_type": "code",
   "execution_count": 57,
   "id": "7ee9e3d9-7bf7-4e4f-b3e1-4f258721a02d",
   "metadata": {},
   "outputs": [
    {
     "name": "stdin",
     "output_type": "stream",
     "text": [
      "enter list 1,2,3\n"
     ]
    }
   ],
   "source": [
    "k=[eval(x) for x in input(\"enter list\").split(',')]"
   ]
  },
  {
   "cell_type": "code",
   "execution_count": 58,
   "id": "bb0aa971-c3f0-46b0-9b47-68a19cf70fba",
   "metadata": {},
   "outputs": [
    {
     "data": {
      "text/plain": [
       "list"
      ]
     },
     "execution_count": 58,
     "metadata": {},
     "output_type": "execute_result"
    }
   ],
   "source": [
    "type(k)"
   ]
  },
  {
   "cell_type": "code",
   "execution_count": 59,
   "id": "e8423072-81e2-45e0-b433-b0a986bd3cc7",
   "metadata": {},
   "outputs": [
    {
     "name": "stdin",
     "output_type": "stream",
     "text": [
      "enter list 2,45,566\n"
     ]
    }
   ],
   "source": [
    "t=(eval(x) for x in input(\"enter list\").split(','))"
   ]
  },
  {
   "cell_type": "code",
   "execution_count": 61,
   "id": "9590e52d-7f21-4006-8e61-2550efde0dab",
   "metadata": {},
   "outputs": [
    {
     "data": {
      "text/plain": [
       "generator"
      ]
     },
     "execution_count": 61,
     "metadata": {},
     "output_type": "execute_result"
    }
   ],
   "source": [
    "type(t)"
   ]
  },
  {
   "cell_type": "code",
   "execution_count": 62,
   "id": "adb88f9b-9b61-4ecf-8b8e-e181ab46b386",
   "metadata": {},
   "outputs": [
    {
     "name": "stdin",
     "output_type": "stream",
     "text": [
      "enter list 1,23,3\n"
     ]
    }
   ],
   "source": [
    "k=tuple([eval(x) for x in input(\"enter list\").split(',')])"
   ]
  },
  {
   "cell_type": "code",
   "execution_count": 63,
   "id": "58a725e6-2abd-434c-9443-123f54e676f3",
   "metadata": {},
   "outputs": [
    {
     "data": {
      "text/plain": [
       "tuple"
      ]
     },
     "execution_count": 63,
     "metadata": {},
     "output_type": "execute_result"
    }
   ],
   "source": [
    "type(k)"
   ]
  },
  {
   "cell_type": "code",
   "execution_count": 64,
   "id": "c6e9731c-deb6-4714-a8cb-3dedb3fed1b8",
   "metadata": {},
   "outputs": [
    {
     "name": "stdin",
     "output_type": "stream",
     "text": [
      "enter list 1,2,3,4\n"
     ]
    }
   ],
   "source": [
    "s=set([eval(x) for x in input(\"enter list\").split(',')])"
   ]
  },
  {
   "cell_type": "code",
   "execution_count": 65,
   "id": "92dd390b-8742-4bdc-98fd-6ba961ac52e8",
   "metadata": {},
   "outputs": [
    {
     "data": {
      "text/plain": [
       "set"
      ]
     },
     "execution_count": 65,
     "metadata": {},
     "output_type": "execute_result"
    }
   ],
   "source": [
    "type(s)"
   ]
  },
  {
   "cell_type": "code",
   "execution_count": 70,
   "id": "4716580d-b5e8-47f3-a13e-6f0133586de1",
   "metadata": {},
   "outputs": [
    {
     "name": "stdin",
     "output_type": "stream",
     "text": [
      " 1-a\n",
      " 2-b\n",
      " 3-c\n"
     ]
    }
   ],
   "source": [
    "d=dict(input().split('-') for _ in range(3))"
   ]
  },
  {
   "cell_type": "code",
   "execution_count": 71,
   "id": "529d9c95-8f02-4ffc-9881-72ba71d850c6",
   "metadata": {},
   "outputs": [
    {
     "data": {
      "text/plain": [
       "{'1': 'a', '2': 'b', '3': 'c'}"
      ]
     },
     "execution_count": 71,
     "metadata": {},
     "output_type": "execute_result"
    }
   ],
   "source": [
    "d"
   ]
  },
  {
   "cell_type": "code",
   "execution_count": 72,
   "id": "dcabbc29-41dc-4260-bc36-b8246ceb474b",
   "metadata": {},
   "outputs": [
    {
     "name": "stdin",
     "output_type": "stream",
     "text": [
      " kiran\n",
      " sai\n",
      " pavan\n",
      " vamshi\n"
     ]
    }
   ],
   "source": [
    "   d={x:input() for x in range(1,5)}"
   ]
  },
  {
   "cell_type": "code",
   "execution_count": 73,
   "id": "0ee272dc-54f8-42e9-a38b-1595cdd7858d",
   "metadata": {},
   "outputs": [
    {
     "data": {
      "text/plain": [
       "{1: 'kiran', 2: 'sai', 3: 'pavan', 4: 'vamshi'}"
      ]
     },
     "execution_count": 73,
     "metadata": {},
     "output_type": "execute_result"
    }
   ],
   "source": [
    "d"
   ]
  },
  {
   "cell_type": "code",
   "execution_count": 74,
   "id": "cd2643e7-21b7-42ec-82f5-af0c936aa9b4",
   "metadata": {},
   "outputs": [
    {
     "name": "stdin",
     "output_type": "stream",
     "text": [
      "key 2\n",
      "value kirri\n",
      "key 3\n",
      "value vamshi\n",
      "key 5\n",
      "value sai\n"
     ]
    }
   ],
   "source": [
    "d={input(\"key\"):input(\"value\") for x in range(3)}"
   ]
  },
  {
   "cell_type": "code",
   "execution_count": 75,
   "id": "3d7c6c40-3315-4df7-9545-01587f12c91d",
   "metadata": {},
   "outputs": [
    {
     "data": {
      "text/plain": [
       "{'2': 'kirri', '3': 'vamshi', '5': 'sai'}"
      ]
     },
     "execution_count": 75,
     "metadata": {},
     "output_type": "execute_result"
    }
   ],
   "source": [
    "d"
   ]
  },
  {
   "cell_type": "code",
   "execution_count": 76,
   "id": "04290520-8919-4513-ae97-083f6b750f06",
   "metadata": {},
   "outputs": [
    {
     "name": "stdin",
     "output_type": "stream",
     "text": [
      "key 10\n",
      "value kirri\n",
      "key 11\n",
      "value sai\n",
      "key 12\n",
      "value vamshi\n"
     ]
    }
   ],
   "source": [
    "d1={int(input(\"key\")):input(\"value\") for x in range(3)}"
   ]
  },
  {
   "cell_type": "code",
   "execution_count": 77,
   "id": "c3ff534f-80ab-4d44-9d1a-afe92ef636ea",
   "metadata": {},
   "outputs": [
    {
     "data": {
      "text/plain": [
       "{10: 'kirri', 11: 'sai', 12: 'vamshi'}"
      ]
     },
     "execution_count": 77,
     "metadata": {},
     "output_type": "execute_result"
    }
   ],
   "source": [
    "d1"
   ]
  },
  {
   "cell_type": "code",
   "execution_count": null,
   "id": "3e223254-a447-48b2-86fb-b40fb72b0c96",
   "metadata": {},
   "outputs": [],
   "source": [
    "  "
   ]
  }
 ],
 "metadata": {
  "kernelspec": {
   "display_name": "Python 3 (ipykernel)",
   "language": "python",
   "name": "python3"
  },
  "language_info": {
   "codemirror_mode": {
    "name": "ipython",
    "version": 3
   },
   "file_extension": ".py",
   "mimetype": "text/x-python",
   "name": "python",
   "nbconvert_exporter": "python",
   "pygments_lexer": "ipython3",
   "version": "3.11.7"
  }
 },
 "nbformat": 4,
 "nbformat_minor": 5
}
