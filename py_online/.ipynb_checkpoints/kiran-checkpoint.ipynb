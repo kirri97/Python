{
 "cells": [
  {
   "cell_type": "markdown",
   "metadata": {},
   "source": [
    "# Strings"
   ]
  },
  {
   "cell_type": "markdown",
   "metadata": {},
   "source": [
    "1.String Literals\n",
    "2.String literals in python are surrounded by either single quotation marks, or double quotation marks.\n",
    "3.'hello' is the same as \"hello\".\n",
    "4.You can display a string literal in a print function.\n",
    "\n",
    "\n",
    "\n"
   ]
  },
  {
   "cell_type": "code",
   "execution_count": 25,
   "metadata": {},
   "outputs": [
    {
     "name": "stdout",
     "output_type": "stream",
     "text": [
      "kiran\n",
      "kiran\n"
     ]
    }
   ],
   "source": [
    "# Assign string to a variable\n",
    "\n",
    "print(\"kiran\")\n",
    "print('kiran')"
   ]
  },
  {
   "cell_type": "code",
   "execution_count": 26,
   "metadata": {},
   "outputs": [
    {
     "name": "stdout",
     "output_type": "stream",
     "text": [
      "kiran\n"
     ]
    }
   ],
   "source": [
    "a=\"kiran\"\n",
    "print(a)"
   ]
  },
  {
   "cell_type": "code",
   "execution_count": 27,
   "metadata": {},
   "outputs": [
    {
     "name": "stdout",
     "output_type": "stream",
     "text": [
      "python is a \"programing\" language\n"
     ]
    }
   ],
   "source": [
    "# Multiline Strings\n",
    "#You can assign a multiline string to a variable by using three quotes.\n",
    "\n",
    "a='''python is a \"programing\" language'''\n",
    "print(a)"
   ]
  },
  {
   "cell_type": "code",
   "execution_count": 28,
   "metadata": {},
   "outputs": [
    {
     "name": "stdout",
     "output_type": "stream",
     "text": [
      "l\n",
      "w\n"
     ]
    }
   ],
   "source": [
    "#Strings are Arrays\n",
    "\n",
    "a=\"hello world\"\n",
    "print(a[3])\n",
    "print(a[6])"
   ]
  },
  {
   "cell_type": "code",
   "execution_count": 29,
   "metadata": {},
   "outputs": [
    {
     "name": "stdout",
     "output_type": "stream",
     "text": [
      "llo w\n"
     ]
    }
   ],
   "source": [
    "# Slicing\n",
    "\n",
    "\n",
    "a=\"Hello world\"\n",
    "print(a[2:7])"
   ]
  },
  {
   "cell_type": "code",
   "execution_count": 30,
   "metadata": {},
   "outputs": [
    {
     "name": "stdout",
     "output_type": "stream",
     "text": [
      "11\n"
     ]
    }
   ],
   "source": [
    "#String length\n",
    "# To get the length of the string, use the len() function.\n",
    "\n",
    "k=\"kiran\"\n",
    "print(len(a))"
   ]
  },
  {
   "cell_type": "markdown",
   "metadata": {},
   "source": [
    "# String Methods\n",
    "Python has a set of built-in methods that you can use on strings.\n",
    "\n"
   ]
  },
  {
   "cell_type": "code",
   "execution_count": 31,
   "metadata": {},
   "outputs": [
    {
     "name": "stdout",
     "output_type": "stream",
     "text": [
      "['rasam', 'kiran']\n"
     ]
    }
   ],
   "source": [
    "# Split() method removes white spaces  from beginning or end.\n",
    "\n",
    "a=\"rasam  kiran\"\n",
    "print(a.split())"
   ]
  },
  {
   "cell_type": "code",
   "execution_count": 32,
   "metadata": {},
   "outputs": [
    {
     "name": "stdout",
     "output_type": "stream",
     "text": [
      "rasam  kiran\n"
     ]
    }
   ],
   "source": [
    "# The lower() method returns the string in lower case\n",
    "\n",
    "a=\"rasam  KIRAN\"\n",
    "print(a.lower())"
   ]
  },
  {
   "cell_type": "code",
   "execution_count": 33,
   "metadata": {},
   "outputs": [
    {
     "name": "stdout",
     "output_type": "stream",
     "text": [
      "RASAM  KIRAN\n"
     ]
    }
   ],
   "source": [
    "# The upper() method returns the string in upper case\n",
    "\n",
    "a=\"rasam  kiran\"\n",
    "print(a.upper())"
   ]
  },
  {
   "cell_type": "code",
   "execution_count": 34,
   "metadata": {},
   "outputs": [
    {
     "name": "stdout",
     "output_type": "stream",
     "text": [
      "risim  kirin\n"
     ]
    }
   ],
   "source": [
    "# The replace() method replaces a string with another string.\n",
    "\n",
    "k=\"rasam ,kiran \"\n",
    "print(a.replace(\"a\",(\"i\")))"
   ]
  },
  {
   "cell_type": "code",
   "execution_count": 35,
   "metadata": {},
   "outputs": [
    {
     "name": "stdout",
     "output_type": "stream",
     "text": [
      "True\n"
     ]
    }
   ],
   "source": [
    "# Check string\n",
    "#To check if a certain phrase or character is present in a string, we can use in or not in. \n",
    "# Example for in: \n",
    "\n",
    "k=\"i am kiran \"\n",
    "a= \"am\" in k\n",
    "print(a)\n"
   ]
  },
  {
   "cell_type": "code",
   "execution_count": 36,
   "metadata": {},
   "outputs": [
    {
     "name": "stdout",
     "output_type": "stream",
     "text": [
      "True\n"
     ]
    }
   ],
   "source": [
    "#Example for not in:\n",
    "\n",
    "k=\"i am kiran \"\n",
    "a= \"hello\" not in k\n",
    "print(a)"
   ]
  },
  {
   "cell_type": "code",
   "execution_count": 37,
   "metadata": {},
   "outputs": [
    {
     "name": "stdout",
     "output_type": "stream",
     "text": [
      "Rasamkiran\n"
     ]
    }
   ],
   "source": [
    "# String Concatenation\n",
    "# To concatenate, or combine, two strings you can use the + operator.\n",
    "\n",
    "a=\"Rasam\"\n",
    "b=\"kiran\"\n",
    "print(a+b)\n"
   ]
  },
  {
   "cell_type": "code",
   "execution_count": 38,
   "metadata": {},
   "outputs": [
    {
     "ename": "TypeError",
     "evalue": "can only concatenate str (not \"int\") to str",
     "output_type": "error",
     "traceback": [
      "\u001b[1;31m---------------------------------------------------------------------------\u001b[0m",
      "\u001b[1;31mTypeError\u001b[0m                                 Traceback (most recent call last)",
      "Cell \u001b[1;32mIn[38], line 7\u001b[0m\n\u001b[0;32m      5\u001b[0m k\u001b[38;5;241m=\u001b[39m\u001b[38;5;124m\"\u001b[39m\u001b[38;5;124mkiran\u001b[39m\u001b[38;5;124m\"\u001b[39m\n\u001b[0;32m      6\u001b[0m l\u001b[38;5;241m=\u001b[39m\u001b[38;5;241m123\u001b[39m\n\u001b[1;32m----> 7\u001b[0m g\u001b[38;5;241m=\u001b[39m\u001b[43mk\u001b[49m\u001b[38;5;241;43m+\u001b[39;49m\u001b[43ml\u001b[49m\n\u001b[0;32m      8\u001b[0m \u001b[38;5;28mprint\u001b[39m(g)\n",
      "\u001b[1;31mTypeError\u001b[0m: can only concatenate str (not \"int\") to str"
     ]
    }
   ],
   "source": [
    "# String Format\n",
    "'''we cannot combine strings and numbers like this:\n",
    "An error is triggered.'''\n",
    "\n",
    "k=\"kiran\"\n",
    "l=123\n",
    "g=k+l\n",
    "print(g)"
   ]
  },
  {
   "cell_type": "markdown",
   "metadata": {},
   "source": [
    "# lists\n",
    "List is a collection which is ordered and changeable.\n",
    "\n",
    "In Python lists are written with square brackets.\n"
   ]
  },
  {
   "cell_type": "code",
   "execution_count": 39,
   "metadata": {},
   "outputs": [
    {
     "name": "stdout",
     "output_type": "stream",
     "text": [
      "['kiran', 'pavan', 'sai']\n"
     ]
    }
   ],
   "source": [
    "l=[\"kiran\",\"pavan\",\"sai\"]\n",
    "print(l)"
   ]
  },
  {
   "cell_type": "code",
   "execution_count": 40,
   "metadata": {},
   "outputs": [
    {
     "name": "stdout",
     "output_type": "stream",
     "text": [
      "sai\n"
     ]
    }
   ],
   "source": [
    "print(l[2])"
   ]
  },
  {
   "cell_type": "code",
   "execution_count": 42,
   "metadata": {},
   "outputs": [
    {
     "name": "stdout",
     "output_type": "stream",
     "text": [
      "pavan\n"
     ]
    }
   ],
   "source": [
    "print(l[-2])"
   ]
  },
  {
   "cell_type": "code",
   "execution_count": 44,
   "metadata": {},
   "outputs": [
    {
     "name": "stdout",
     "output_type": "stream",
     "text": [
      "['sai', 'vamshi']\n"
     ]
    }
   ],
   "source": [
    "# Range of Indexes\n",
    "li=[\"kiran\",\"pavan\",\"sai\",\"vamshi\"]\n",
    "print(li[2:5])\n"
   ]
  },
  {
   "cell_type": "code",
   "execution_count": 53,
   "metadata": {},
   "outputs": [
    {
     "name": "stdout",
     "output_type": "stream",
     "text": [
      "['kiran', 'pavan']\n"
     ]
    }
   ],
   "source": [
    "# negatives \n",
    "print(li[-4:-2])"
   ]
  },
  {
   "cell_type": "code",
   "execution_count": 55,
   "metadata": {},
   "outputs": [
    {
     "name": "stdout",
     "output_type": "stream",
     "text": [
      "['vamshi']\n"
     ]
    }
   ],
   "source": [
    "print(li[-1:-2:-1])"
   ]
  },
  {
   "cell_type": "code",
   "execution_count": 59,
   "metadata": {},
   "outputs": [
    {
     "name": "stdout",
     "output_type": "stream",
     "text": [
      "['kiran', 'sai', 'vamshi']\n"
     ]
    }
   ],
   "source": [
    "#Change Item Value\n",
    "k=[\"pavan\",\"sai\",\"vamshi\"]\n",
    "k[0]=\"kiran\"\n",
    "print(k)"
   ]
  },
  {
   "cell_type": "code",
   "execution_count": 65,
   "metadata": {},
   "outputs": [
    {
     "name": "stdout",
     "output_type": "stream",
     "text": [
      "kiran\n",
      "pavan\n",
      "sai\n",
      "vamshi\n"
     ]
    }
   ],
   "source": [
    "# Loop Through a List\n",
    "l=[\"kiran\",\"pavan\",\"sai\",\"vamshi\"]\n",
    "for m in l:\n",
    "    print(m)"
   ]
  },
  {
   "cell_type": "code",
   "execution_count": 67,
   "metadata": {},
   "outputs": [
    {
     "name": "stdout",
     "output_type": "stream",
     "text": [
      "vamshi\n",
      "sai\n",
      "pavan\n",
      "kiran\n"
     ]
    }
   ],
   "source": [
    "l=[\"kiran\",\"pavan\",\"sai\",\"vamshi\"]\n",
    "for m in l[::-1]:\n",
    "  print(m)"
   ]
  },
  {
   "cell_type": "code",
   "execution_count": 70,
   "metadata": {},
   "outputs": [
    {
     "name": "stdout",
     "output_type": "stream",
     "text": [
      "sai present\n"
     ]
    }
   ],
   "source": [
    "# Check if Item Exists\n",
    "\n",
    "g=[\"kiran\",\"pavan\",\"sai\",\"vamshi\"]\n",
    "if \"sai\" in  g:\n",
    "    print(\"sai present\")"
   ]
  },
  {
   "cell_type": "code",
   "execution_count": 72,
   "metadata": {},
   "outputs": [
    {
     "name": "stdout",
     "output_type": "stream",
     "text": [
      "4\n"
     ]
    }
   ],
   "source": [
    "# List Length\n",
    "\n",
    "g=[\"kiran\",\"pavan\",\"sai\",\"vamshi\"]\n",
    "print(len(g))\n",
    "\n"
   ]
  },
  {
   "cell_type": "code",
   "execution_count": 73,
   "metadata": {},
   "outputs": [
    {
     "name": "stdout",
     "output_type": "stream",
     "text": [
      "['kiran', 'pavan', 'sai', 'vamshi', 'sathosh']\n"
     ]
    }
   ],
   "source": [
    "# adding strings\n",
    "g=[\"kiran\",\"pavan\",\"sai\",\"vamshi\"]\n",
    "g.append(\"sathosh\")\n",
    "print(g)"
   ]
  },
  {
   "cell_type": "code",
   "execution_count": 74,
   "metadata": {},
   "outputs": [
    {
     "name": "stdout",
     "output_type": "stream",
     "text": [
      "['kiran', 'pavan', 'vamshi']\n"
     ]
    }
   ],
   "source": [
    "# remove any string \n",
    "g=[\"kiran\",\"pavan\",\"sai\",\"vamshi\"]\n",
    "g.remove(\"sai\")\n",
    "print(g)"
   ]
  },
  {
   "cell_type": "code",
   "execution_count": 76,
   "metadata": {},
   "outputs": [
    {
     "name": "stdout",
     "output_type": "stream",
     "text": [
      "['kiran', 'pavan', 'vamshi']\n"
     ]
    }
   ],
   "source": [
    "# pop is used for with the help o index to remove values \n",
    "g=[\"kiran\",\"pavan\",\"sai\",\"vamshi\"]\n",
    "g.pop(2)\n",
    "print(g)"
   ]
  },
  {
   "cell_type": "code",
   "execution_count": 79,
   "metadata": {},
   "outputs": [
    {
     "name": "stdout",
     "output_type": "stream",
     "text": [
      "[]\n"
     ]
    }
   ],
   "source": [
    "# for clear all\n",
    "g=[\"kiran\",\"pavan\",\"sai\",\"vamshi\"]\n",
    "g.clear()\n",
    "print(g)"
   ]
  },
  {
   "cell_type": "code",
   "execution_count": 81,
   "metadata": {},
   "outputs": [
    {
     "name": "stdout",
     "output_type": "stream",
     "text": [
      "['kiran', 'pavan', 'sai', 'vamshi']\n",
      "['kiran', 'pavan', 'sai', 'vamshi']\n"
     ]
    }
   ],
   "source": [
    "# copy of list\n",
    "g=[\"kiran\",\"pavan\",\"sai\",\"vamshi\"]\n",
    "k=g.copy()\n",
    "print(g)\n",
    "print(k)"
   ]
  },
  {
   "cell_type": "code",
   "execution_count": 83,
   "metadata": {},
   "outputs": [
    {
     "name": "stdout",
     "output_type": "stream",
     "text": [
      "['kiran', 'pavan', 'sai', 'vamshi']\n"
     ]
    }
   ],
   "source": [
    "# list method to copy \n",
    "g=[\"kiran\",\"pavan\",\"sai\",\"vamshi\"]\n",
    "k=list(g)\n",
    "print(k)"
   ]
  },
  {
   "cell_type": "code",
   "execution_count": 85,
   "metadata": {},
   "outputs": [
    {
     "data": {
      "text/plain": [
       "['kiran', 'pavan', 'sai', 'vamshi', 'kirri', 'mani']"
      ]
     },
     "execution_count": 85,
     "metadata": {},
     "output_type": "execute_result"
    }
   ],
   "source": [
    "# adding two lists\n",
    "g=[\"kiran\",\"pavan\",\"sai\",\"vamshi\"]\n",
    "l=[\"kirri\",\"mani\"]\n",
    "j=g+l\n",
    "j"
   ]
  },
  {
   "cell_type": "code",
   "execution_count": 86,
   "metadata": {},
   "outputs": [
    {
     "name": "stdout",
     "output_type": "stream",
     "text": [
      "['kiran', 'pavan', 'sai', 'vamshi', 1]\n",
      "['kiran', 'pavan', 'sai', 'vamshi', 1, 2]\n",
      "['kiran', 'pavan', 'sai', 'vamshi', 1, 2, 3]\n",
      "['kiran', 'pavan', 'sai', 'vamshi', 1, 2, 3, 4]\n",
      "['kiran', 'pavan', 'sai', 'vamshi', 1, 2, 3, 4, 4]\n"
     ]
    }
   ],
   "source": [
    "# append\n",
    "g=[\"kiran\",\"pavan\",\"sai\",\"vamshi\"]\n",
    "l=[1,2,3,4,4]\n",
    "\n",
    "for k in l:\n",
    "    g.append(k)\n",
    "\n",
    "    print(g)\n"
   ]
  },
  {
   "cell_type": "code",
   "execution_count": 87,
   "metadata": {},
   "outputs": [
    {
     "data": {
      "text/plain": [
       "['kiran', 'pavan', 'sai', 'vamshi']"
      ]
     },
     "execution_count": 87,
     "metadata": {},
     "output_type": "execute_result"
    }
   ],
   "source": [
    "#The list() Constructor\n",
    "g=list((\"kiran\",\"pavan\",\"sai\",\"vamshi\"))\n",
    "g"
   ]
  },
  {
   "cell_type": "code",
   "execution_count": null,
   "metadata": {},
   "outputs": [],
   "source": []
  }
 ],
 "metadata": {
  "kernelspec": {
   "display_name": "Python 3",
   "language": "python",
   "name": "python3"
  },
  "language_info": {
   "codemirror_mode": {
    "name": "ipython",
    "version": 3
   },
   "file_extension": ".py",
   "mimetype": "text/x-python",
   "name": "python",
   "nbconvert_exporter": "python",
   "pygments_lexer": "ipython3",
   "version": "3.11.8"
  }
 },
 "nbformat": 4,
 "nbformat_minor": 2
}
