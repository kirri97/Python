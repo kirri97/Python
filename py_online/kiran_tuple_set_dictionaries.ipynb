{
 "cells": [
  {
   "cell_type": "markdown",
   "metadata": {},
   "source": [
    "# Tuple"
   ]
  },
  {
   "cell_type": "markdown",
   "metadata": {},
   "source": [
    "A tuple is a collection which is ordered and unchangeable.\n",
    "In Python tuples are written with round brackets.\n"
   ]
  },
  {
   "cell_type": "code",
   "execution_count": 5,
   "metadata": {},
   "outputs": [
    {
     "name": "stdout",
     "output_type": "stream",
     "text": [
      "('apple', 'ball', 'cat')\n"
     ]
    }
   ],
   "source": [
    "t=(\"apple\",\"ball\",\"cat\")\n",
    "print(t)"
   ]
  },
  {
   "cell_type": "code",
   "execution_count": 6,
   "metadata": {},
   "outputs": [
    {
     "name": "stdout",
     "output_type": "stream",
     "text": [
      "apple\n",
      "ball\n"
     ]
    }
   ],
   "source": [
    "# Access Tuple Items\n",
    "t=(\"apple\",\"ball\",\"cat\")\n",
    "print(t[0])\n",
    "print(t[1])"
   ]
  },
  {
   "cell_type": "code",
   "execution_count": 7,
   "metadata": {},
   "outputs": [
    {
     "name": "stdout",
     "output_type": "stream",
     "text": [
      "cat\n",
      "ball\n"
     ]
    }
   ],
   "source": [
    "# Negative Indexing\n",
    "t=(\"apple\",\"ball\",\"cat\")\n",
    "print(t[-1])\n",
    "print(t[-2])"
   ]
  },
  {
   "cell_type": "code",
   "execution_count": 8,
   "metadata": {},
   "outputs": [
    {
     "name": "stdout",
     "output_type": "stream",
     "text": [
      "('ball', 'cat', 'dog')\n"
     ]
    }
   ],
   "source": [
    "# Range of Indexes\n",
    "t=(\"apple\",\"ball\",\"cat\",\"dog\",\"bird\")\n",
    "print(t[1:4])\n"
   ]
  },
  {
   "cell_type": "code",
   "execution_count": 13,
   "metadata": {},
   "outputs": [
    {
     "name": "stdout",
     "output_type": "stream",
     "text": [
      "('bird', 'dog', 'cat', 'ball')\n",
      "('bird', 'dog', 'cat', 'ball', 'apple')\n"
     ]
    }
   ],
   "source": [
    "# Range of Negative Indexes\n",
    "t=(\"apple\",\"ball\",\"cat\",\"dog\",\"bird\")\n",
    "print(t[-1:-5:-1])\n",
    "print(t[::-1]) # reverse\n"
   ]
  },
  {
   "cell_type": "code",
   "execution_count": 18,
   "metadata": {},
   "outputs": [
    {
     "name": "stdout",
     "output_type": "stream",
     "text": [
      "('apple', 'ball', 'cat', 'dog', 'babu')\n"
     ]
    }
   ],
   "source": [
    "# Change Tuple Values\n",
    "t=(\"apple\",\"ball\",\"cat\",\"dog\",\"bird\")\n",
    "l=list(t)\n",
    "l[4]=\"babu\"\n",
    "t=tuple(l)\n",
    "print(t)"
   ]
  },
  {
   "cell_type": "code",
   "execution_count": 20,
   "metadata": {},
   "outputs": [
    {
     "name": "stdout",
     "output_type": "stream",
     "text": [
      "apple\n",
      "ball\n",
      "cat\n",
      "dog\n",
      "bird\n"
     ]
    }
   ],
   "source": [
    "# Loop Through a Tuple\n",
    "\n",
    "t=(\"apple\",\"ball\",\"cat\",\"dog\",\"bird\")\n",
    "for x in t:\n",
    "    print(x)\n"
   ]
  },
  {
   "cell_type": "code",
   "execution_count": 23,
   "metadata": {},
   "outputs": [
    {
     "name": "stdout",
     "output_type": "stream",
     "text": [
      "bird\n",
      "dog\n",
      "cat\n",
      "ball\n",
      "apple\n"
     ]
    }
   ],
   "source": [
    "t=(\"apple\",\"ball\",\"cat\",\"dog\",\"bird\") # reverse\n",
    "for x in t[::-1]:\n",
    "    print(x)"
   ]
  },
  {
   "cell_type": "code",
   "execution_count": 27,
   "metadata": {},
   "outputs": [
    {
     "name": "stdout",
     "output_type": "stream",
     "text": [
      "ball is here\n"
     ]
    }
   ],
   "source": [
    "# Check if Item Exists\n",
    "t=(\"apple\",\"ball\",\"cat\",\"dog\",\"bird\") \n",
    "if \"ball\" in t:\n",
    "    print(\"ball is here\")\n"
   ]
  },
  {
   "cell_type": "code",
   "execution_count": 29,
   "metadata": {},
   "outputs": [
    {
     "data": {
      "text/plain": [
       "5"
      ]
     },
     "execution_count": 29,
     "metadata": {},
     "output_type": "execute_result"
    }
   ],
   "source": [
    "# Tuple Length\n",
    "t=(\"apple\",\"ball\",\"cat\",\"dog\",\"bird\")  \n",
    "len(t)"
   ]
  },
  {
   "cell_type": "code",
   "execution_count": 33,
   "metadata": {},
   "outputs": [
    {
     "name": "stdout",
     "output_type": "stream",
     "text": [
      "('apple', 'ball', 'cat', 'car', 'bird')\n"
     ]
    }
   ],
   "source": [
    "# Add Items\n",
    "t=(\"apple\",\"ball\",\"cat\",\"dog\",\"bird\")  \n",
    "l=list(t)\n",
    "l[3]=\"car\"\n",
    "t=tuple(l)\n",
    "print(t)"
   ]
  },
  {
   "cell_type": "code",
   "execution_count": 35,
   "metadata": {},
   "outputs": [
    {
     "data": {
      "text/plain": [
       "tuple"
      ]
     },
     "execution_count": 35,
     "metadata": {},
     "output_type": "execute_result"
    }
   ],
   "source": [
    "# Create Tuple With One Item\n",
    "t=(\"kirri\",)  # if u don't seperate with coma it will become string\n",
    "type(t)"
   ]
  },
  {
   "cell_type": "code",
   "execution_count": 37,
   "metadata": {},
   "outputs": [
    {
     "ename": "NameError",
     "evalue": "name 't' is not defined",
     "output_type": "error",
     "traceback": [
      "\u001b[1;31m---------------------------------------------------------------------------\u001b[0m",
      "\u001b[1;31mNameError\u001b[0m                                 Traceback (most recent call last)",
      "Cell \u001b[1;32mIn[37], line 4\u001b[0m\n\u001b[0;32m      2\u001b[0m t\u001b[38;5;241m=\u001b[39m(\u001b[38;5;124m\"\u001b[39m\u001b[38;5;124mapple\u001b[39m\u001b[38;5;124m\"\u001b[39m,\u001b[38;5;124m\"\u001b[39m\u001b[38;5;124mball\u001b[39m\u001b[38;5;124m\"\u001b[39m,\u001b[38;5;124m\"\u001b[39m\u001b[38;5;124mcat\u001b[39m\u001b[38;5;124m\"\u001b[39m,\u001b[38;5;124m\"\u001b[39m\u001b[38;5;124mdog\u001b[39m\u001b[38;5;124m\"\u001b[39m,\u001b[38;5;124m\"\u001b[39m\u001b[38;5;124mbird\u001b[39m\u001b[38;5;124m\"\u001b[39m)  \n\u001b[0;32m      3\u001b[0m \u001b[38;5;28;01mdel\u001b[39;00m t\n\u001b[1;32m----> 4\u001b[0m \u001b[38;5;28mprint\u001b[39m(t)\n",
      "\u001b[1;31mNameError\u001b[0m: name 't' is not defined"
     ]
    }
   ],
   "source": [
    "# Remove Items\n",
    "t=(\"apple\",\"ball\",\"cat\",\"dog\",\"bird\")  \n",
    "del t\n",
    "print(t)  # here removeing items are not posible "
   ]
  },
  {
   "cell_type": "code",
   "execution_count": 38,
   "metadata": {},
   "outputs": [
    {
     "name": "stdout",
     "output_type": "stream",
     "text": [
      "('apple', 'ball', 'cat', 'dog', 'bird', 1, 2, 3, 4)\n"
     ]
    }
   ],
   "source": [
    "# Join Two Tuples\n",
    "t=(\"apple\",\"ball\",\"cat\",\"dog\",\"bird\")  \n",
    "t1=(1,2,3,4)\n",
    "t2=t+t1\n",
    "print(t2)\n"
   ]
  },
  {
   "cell_type": "code",
   "execution_count": 39,
   "metadata": {},
   "outputs": [
    {
     "ename": "AttributeError",
     "evalue": "'tuple' object has no attribute 'append'",
     "output_type": "error",
     "traceback": [
      "\u001b[1;31m---------------------------------------------------------------------------\u001b[0m",
      "\u001b[1;31mAttributeError\u001b[0m                            Traceback (most recent call last)",
      "Cell \u001b[1;32mIn[39], line 2\u001b[0m\n\u001b[0;32m      1\u001b[0m \u001b[38;5;28;01mfor\u001b[39;00m x \u001b[38;5;129;01min\u001b[39;00m  t:\n\u001b[1;32m----> 2\u001b[0m     t1\u001b[38;5;241m.\u001b[39mappend(x)\n\u001b[0;32m      3\u001b[0m     \u001b[38;5;28mprint\u001b[39m(t1)\n",
      "\u001b[1;31mAttributeError\u001b[0m: 'tuple' object has no attribute 'append'"
     ]
    }
   ],
   "source": [
    "for x in  t:\n",
    "    t1.append(x)\n",
    "    print(t1)"
   ]
  },
  {
   "cell_type": "code",
   "execution_count": 41,
   "metadata": {},
   "outputs": [
    {
     "data": {
      "text/plain": [
       "3"
      ]
     },
     "execution_count": 41,
     "metadata": {},
     "output_type": "execute_result"
    }
   ],
   "source": [
    "# count\n",
    "t=(\"apple\",\"ball\",\"cat\",\"dog\",\"bird\",\"apple\",\"car\",\"apple\")  \n",
    "t.count(\"apple\")"
   ]
  },
  {
   "cell_type": "code",
   "execution_count": 42,
   "metadata": {},
   "outputs": [
    {
     "data": {
      "text/plain": [
       "3"
      ]
     },
     "execution_count": 42,
     "metadata": {},
     "output_type": "execute_result"
    }
   ],
   "source": [
    "# index\n",
    "t=(\"apple\",\"ball\",\"cat\",\"dog\",\"bird\",\"apple\",\"car\",\"apple\")  \n",
    "t.index(\"dog\")"
   ]
  },
  {
   "cell_type": "markdown",
   "metadata": {},
   "source": [
    "# Set"
   ]
  },
  {
   "cell_type": "markdown",
   "metadata": {},
   "source": [
    "A set is a collection which is unordered and unindexed. In Python sets are written with curly brackets.\n"
   ]
  },
  {
   "cell_type": "code",
   "execution_count": 43,
   "metadata": {},
   "outputs": [
    {
     "name": "stdout",
     "output_type": "stream",
     "text": [
      "{'charan', 'pavan', 'sai', 'kiran', 'vamshi'}\n"
     ]
    }
   ],
   "source": [
    "# set\n",
    "s={\"kiran\",\"sai\",\"pavan\",\"vamshi\",\"charan\"}\n",
    "print(s)"
   ]
  },
  {
   "cell_type": "code",
   "execution_count": 44,
   "metadata": {},
   "outputs": [
    {
     "name": "stdout",
     "output_type": "stream",
     "text": [
      "charan\n",
      "pavan\n",
      "sai\n",
      "kiran\n",
      "vamshi\n"
     ]
    }
   ],
   "source": [
    "# Access Items\n",
    "s={\"kiran\",\"sai\",\"pavan\",\"vamshi\",\"charan\"}\n",
    "for x in s:\n",
    "    print(x)"
   ]
  },
  {
   "cell_type": "code",
   "execution_count": 45,
   "metadata": {},
   "outputs": [
    {
     "data": {
      "text/plain": [
       "True"
      ]
     },
     "execution_count": 45,
     "metadata": {},
     "output_type": "execute_result"
    }
   ],
   "source": [
    "s={\"kiran\",\"sai\",\"pavan\",\"vamshi\",\"charan\"}\n",
    "\"sai\" in s"
   ]
  },
  {
   "cell_type": "code",
   "execution_count": 46,
   "metadata": {},
   "outputs": [
    {
     "name": "stdout",
     "output_type": "stream",
     "text": [
      "{'charan', 'pavan', 'sai', 'babu', 'kiran', 'vamshi'}\n"
     ]
    }
   ],
   "source": [
    "# Add Items\n",
    "s={\"kiran\",\"sai\",\"pavan\",\"vamshi\",\"charan\"}\n",
    "s.add(\"babu\")\n",
    "print(s)\n"
   ]
  },
  {
   "cell_type": "code",
   "execution_count": 47,
   "metadata": {},
   "outputs": [
    {
     "name": "stdout",
     "output_type": "stream",
     "text": [
      "{'charan', 'pavan', 'sai', 'vikas', 'kiran', 'vamshi'}\n"
     ]
    }
   ],
   "source": [
    "# Update method\n",
    "s={\"kiran\",\"sai\",\"pavan\",\"vamshi\",\"charan\"}\n",
    "s.update([\"vikas\"])\n",
    "print(s)"
   ]
  },
  {
   "cell_type": "code",
   "execution_count": 48,
   "metadata": {},
   "outputs": [
    {
     "data": {
      "text/plain": [
       "5"
      ]
     },
     "execution_count": 48,
     "metadata": {},
     "output_type": "execute_result"
    }
   ],
   "source": [
    "# Get the Length of a Set\n",
    "s={\"kiran\",\"sai\",\"pavan\",\"vamshi\",\"charan\"}\n",
    "len(s)"
   ]
  },
  {
   "cell_type": "code",
   "execution_count": 50,
   "metadata": {},
   "outputs": [
    {
     "name": "stdout",
     "output_type": "stream",
     "text": [
      "{'charan', 'sai', 'kiran', 'vamshi'}\n"
     ]
    }
   ],
   "source": [
    "# Remove Item\n",
    "s={\"kiran\",\"sai\",\"pavan\",\"vamshi\",\"charan\"}\n",
    "s.remove(\"pavan\")\n",
    "print(s)\n"
   ]
  },
  {
   "cell_type": "markdown",
   "metadata": {},
   "source": [
    "# Dictionaries"
   ]
  },
  {
   "cell_type": "markdown",
   "metadata": {},
   "source": [
    "A dictionary is a collection which is unordered, changeable and indexed. In Python dictionaries are written with curly brackets, and they have keys and values.\n"
   ]
  },
  {
   "cell_type": "code",
   "execution_count": 2,
   "metadata": {},
   "outputs": [
    {
     "data": {
      "text/plain": [
       "{'name': 'kiran', 'salary': '16000', 'skill': 'python'}"
      ]
     },
     "execution_count": 2,
     "metadata": {},
     "output_type": "execute_result"
    }
   ],
   "source": [
    "D={\"name\":\"kiran\",\"salary\":\"16000\",\"skill\":\"python\"}\n",
    "D"
   ]
  },
  {
   "cell_type": "code",
   "execution_count": 4,
   "metadata": {},
   "outputs": [
    {
     "data": {
      "text/plain": [
       "'kiran'"
      ]
     },
     "execution_count": 4,
     "metadata": {},
     "output_type": "execute_result"
    }
   ],
   "source": [
    "#  Accessing Items\n",
    "D={\"name\":\"kiran\",\"salary\":\"16000\",\"skill\":\"python\"}\n",
    "D[\"name\"]\n"
   ]
  },
  {
   "cell_type": "code",
   "execution_count": 6,
   "metadata": {},
   "outputs": [
    {
     "data": {
      "text/plain": [
       "{'name': 'sai', 'salary': '16000', 'skill': 'python'}"
      ]
     },
     "execution_count": 6,
     "metadata": {},
     "output_type": "execute_result"
    }
   ],
   "source": [
    "# Change Values\n",
    "D={\"name\":\"kiran\",\"salary\":\"16000\",\"skill\":\"python\"}\n",
    "D[\"name\"]=\"sai\"\n",
    "D\n"
   ]
  },
  {
   "cell_type": "code",
   "execution_count": 7,
   "metadata": {},
   "outputs": [
    {
     "name": "stdout",
     "output_type": "stream",
     "text": [
      "name\n",
      "salary\n",
      "skill\n"
     ]
    }
   ],
   "source": [
    "# Loop Through a Dictionary\n",
    "D={\"name\":\"kiran\",\"salary\":\"16000\",\"skill\":\"python\"}\n",
    "\n",
    "for  x in D:\n",
    "    print(x)\n"
   ]
  },
  {
   "cell_type": "code",
   "execution_count": 8,
   "metadata": {},
   "outputs": [
    {
     "name": "stdout",
     "output_type": "stream",
     "text": [
      "name is presented\n"
     ]
    }
   ],
   "source": [
    "# Check if Key Exists\n",
    "D={\"name\":\"kiran\",\"salary\":\"16000\",\"skill\":\"python\"}\n",
    "if \"name\" in D:\n",
    "    print(\"name is presented\")"
   ]
  },
  {
   "cell_type": "code",
   "execution_count": 9,
   "metadata": {},
   "outputs": [
    {
     "data": {
      "text/plain": [
       "3"
      ]
     },
     "execution_count": 9,
     "metadata": {},
     "output_type": "execute_result"
    }
   ],
   "source": [
    "# Dictionary Length\n",
    "D={\"name\":\"kiran\",\"salary\":\"16000\",\"skill\":\"python\"}\n",
    "len(D)"
   ]
  },
  {
   "cell_type": "code",
   "execution_count": 11,
   "metadata": {},
   "outputs": [
    {
     "name": "stdout",
     "output_type": "stream",
     "text": [
      "{'name': 'kiran', 'salary': '16000', 'skill': 'python', 'location': 'hyderabad'}\n"
     ]
    }
   ],
   "source": [
    "# Adding Items\n",
    "D={\"name\":\"kiran\",\"salary\":\"16000\",\"skill\":\"python\"}\n",
    "D[\"location\"]=\"hyderabad\"\n",
    "print(D)\n"
   ]
  },
  {
   "cell_type": "code",
   "execution_count": 13,
   "metadata": {},
   "outputs": [
    {
     "data": {
      "text/plain": [
       "{'name': 'kiran', 'skill': 'python'}"
      ]
     },
     "execution_count": 13,
     "metadata": {},
     "output_type": "execute_result"
    }
   ],
   "source": [
    "# Removing Items\n",
    "\n",
    "D={\"name\":\"kiran\",\"salary\":\"16000\",\"skill\":\"python\"}\n",
    "D.pop(\"salary\")\n",
    "D\n"
   ]
  },
  {
   "cell_type": "code",
   "execution_count": 15,
   "metadata": {},
   "outputs": [
    {
     "name": "stdout",
     "output_type": "stream",
     "text": [
      "{'name': 'kiran', 'salary': '16000'}\n"
     ]
    }
   ],
   "source": [
    "D={\"name\":\"kiran\",\"salary\":\"16000\",\"skill\":\"python\"}\n",
    "D.popitem()\n",
    "print(D)"
   ]
  },
  {
   "cell_type": "code",
   "execution_count": 17,
   "metadata": {},
   "outputs": [
    {
     "name": "stdout",
     "output_type": "stream",
     "text": [
      "{'name': 'kiran', 'salary': '16000'}\n"
     ]
    }
   ],
   "source": [
    "# Del keyword\n",
    "D={\"name\":\"kiran\",\"salary\":\"16000\",\"skill\":\"python\"}\n",
    "del D[\"skill\"]\n",
    "print(D)"
   ]
  },
  {
   "cell_type": "code",
   "execution_count": 19,
   "metadata": {},
   "outputs": [
    {
     "name": "stdout",
     "output_type": "stream",
     "text": [
      "{'name': 'kiran', 'salary': '16000', 'skill': 'python'}\n"
     ]
    }
   ],
   "source": [
    "# Copy a Dictionary\n",
    "D={\"name\":\"kiran\",\"salary\":\"16000\",\"skill\":\"python\"}\n",
    "d=D.copy()\n",
    "print(d)\n"
   ]
  },
  {
   "cell_type": "code",
   "execution_count": 21,
   "metadata": {},
   "outputs": [
    {
     "name": "stdout",
     "output_type": "stream",
     "text": [
      "{'child1': {'name': 'kiran', 'skil': 'python'}, 'child2': {'name': 'krishna', 'skil': 'java'}, 'child3': {'name': 'vamshi', 'skil': 'c'}}\n"
     ]
    }
   ],
   "source": [
    "# Nested Dictionaries\n",
    "family={\"child1\":{\"name\":\"kiran\",\"skil\":\"python\"}\n",
    "        ,\"child2\":{\"name\":\"krishna\",\"skil\":\"java\"}\n",
    "        ,\"child3\":{\"name\":\"vamshi\",\"skil\":\"c\"}}\n",
    "print(family)"
   ]
  },
  {
   "cell_type": "code",
   "execution_count": 24,
   "metadata": {},
   "outputs": [
    {
     "name": "stdout",
     "output_type": "stream",
     "text": [
      "{'name': 'kiran', 'skil': 'python'}\n",
      "{'name': 'krishna', 'skil': 'java'}\n",
      "{'name': 'vamshi', 'skil': 'c'}\n"
     ]
    }
   ],
   "source": [
    "for x in family:\n",
    "    print(family[x])"
   ]
  },
  {
   "cell_type": "code",
   "execution_count": null,
   "metadata": {},
   "outputs": [],
   "source": []
  }
 ],
 "metadata": {
  "kernelspec": {
   "display_name": "base",
   "language": "python",
   "name": "python3"
  },
  "language_info": {
   "codemirror_mode": {
    "name": "ipython",
    "version": 3
   },
   "file_extension": ".py",
   "mimetype": "text/x-python",
   "name": "python",
   "nbconvert_exporter": "python",
   "pygments_lexer": "ipython3",
   "version": "3.12.0"
  }
 },
 "nbformat": 4,
 "nbformat_minor": 2
}
